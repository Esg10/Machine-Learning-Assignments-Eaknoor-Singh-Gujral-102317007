{
  "nbformat": 4,
  "nbformat_minor": 0,
  "metadata": {
    "colab": {
      "provenance": []
    },
    "kernelspec": {
      "name": "python3",
      "display_name": "Python 3"
    },
    "language_info": {
      "name": "python"
    }
  },
  "cells": [
    {
      "cell_type": "markdown",
      "source": [
        "Q1.\n"
      ],
      "metadata": {
        "id": "h9dvkCpd8N_O"
      }
    },
    {
      "cell_type": "markdown",
      "metadata": {
        "id": "ec002c75"
      },
      "source": [
        "**(a) Reverse the NumPy array: arr = np.array([1, 2, 3, 6, 4, 5])**"
      ]
    },
    {
      "cell_type": "code",
      "metadata": {
        "colab": {
          "base_uri": "https://localhost:8080/"
        },
        "id": "0286dd42",
        "outputId": "e50cd55f-df14-4016-90c9-166c89f07252"
      },
      "source": [
        "import numpy as np\n",
        "arr = np.array([1, 2, 3, 6, 4, 5])\n",
        "res=np.flip(arr)\n",
        "print(res)\n",
        "reversed_arr = arr[::-1]\n",
        "print(reversed_arr)"
      ],
      "execution_count": null,
      "outputs": [
        {
          "output_type": "stream",
          "name": "stdout",
          "text": [
            "[5 4 6 3 2 1]\n",
            "[5 4 6 3 2 1]\n"
          ]
        }
      ]
    },
    {
      "cell_type": "markdown",
      "metadata": {
        "id": "f852498e"
      },
      "source": [
        "**(b) Flatten the NumPy array: array1 = np.array([[1, 2, 3], [2, 4, 5], [1, 2, 3]]) using any two NumPy in-built methods**"
      ]
    },
    {
      "cell_type": "code",
      "metadata": {
        "colab": {
          "base_uri": "https://localhost:8080/"
        },
        "id": "9610fbba",
        "outputId": "cef92eb3-705f-4c45-a344-7625ba53f586"
      },
      "source": [
        "import numpy as np\n",
        "array1 = np.array([[1, 2, 3], [2, 4, 5], [1, 2, 3]])\n",
        "# Method 1: Using flatten()\n",
        "flattened_arr1 = array1.flatten()\n",
        "print(\"Flattened array using flatten():\", flattened_arr1)\n",
        "# Method 2: Using ravel()\n",
        "flattened_arr2 = array1.ravel()\n",
        "print(\"Flattened array using ravel():\", flattened_arr2)"
      ],
      "execution_count": null,
      "outputs": [
        {
          "output_type": "stream",
          "name": "stdout",
          "text": [
            "Flattened array using flatten(): [1 2 3 2 4 5 1 2 3]\n",
            "Flattened array using ravel(): [1 2 3 2 4 5 1 2 3]\n"
          ]
        }
      ]
    },
    {
      "cell_type": "markdown",
      "metadata": {
        "id": "e252eb35"
      },
      "source": [
        "**(c) Compare the following numpy arrays:**\n",
        "**arr1 = np.array([[1, 2], [3, 4]])**\n",
        "**arr2 = np.array([[1, 2], [3, 4]])**"
      ]
    },
    {
      "cell_type": "code",
      "metadata": {
        "colab": {
          "base_uri": "https://localhost:8080/"
        },
        "id": "e5c9ca21",
        "outputId": "b10e20ff-29e1-4ca4-a6ac-c39007447aa7"
      },
      "source": [
        "import numpy as np\n",
        "arr1 = np.array([[1, 2], [3, 4]])\n",
        "arr2 = np.array([[1, 2], [3, 4]])\n",
        "comparison = arr1 == arr2\n",
        "print(\"Element-wise comparison:\\n\", comparison)\n",
        "print(\"Are the arrays equal?\", np.array_equal(arr1, arr2))"
      ],
      "execution_count": null,
      "outputs": [
        {
          "output_type": "stream",
          "name": "stdout",
          "text": [
            "Element-wise comparison:\n",
            " [[ True  True]\n",
            " [ True  True]]\n",
            "Are the arrays equal? True\n"
          ]
        }
      ]
    },
    {
      "cell_type": "markdown",
      "metadata": {
        "id": "2adc665e"
      },
      "source": [
        "**(d) Find the most frequent value and their indice(s) in the following arrays:**\n",
        "**i. x = np.array([1,2,3,4,5,1,2,1,1,1])**\n",
        "**ii. y = np.array([1, 1, 1, 2, 3, 4, 2, 4, 3, 3, ])**"
      ]
    },
    {
      "cell_type": "code",
      "metadata": {
        "colab": {
          "base_uri": "https://localhost:8080/"
        },
        "id": "04d76c76",
        "outputId": "2e9d0f70-990a-4ddd-ac70-b787e05bad7a"
      },
      "source": [
        "import numpy as np\n",
        "x = np.array([1, 2, 3, 4, 5, 1, 2, 1, 1, 1])\n",
        "y = np.array([1, 1, 1, 2, 3, 4, 2, 4, 3, 3, ])\n",
        "\n",
        "def most_frequent(arr):\n",
        "  unique, counts = np.unique(arr, return_counts=True)\n",
        "  max_count_index = np.argmax(counts)\n",
        "  most_frequent_value = unique[max_count_index]\n",
        "  indices = np.where(arr == most_frequent_value)[0]\n",
        "  return most_frequent_value, indices\n",
        "\n",
        "most_frequent_x, indices_x = most_frequent(x)\n",
        "print(\"Most frequent value in x:\", most_frequent_x)\n",
        "print(\"Indices of most frequent value in x:\", indices_x)\n",
        "\n",
        "most_frequent_y, indices_y = most_frequent(y)\n",
        "print(\"\\nMost frequent value in y:\", most_frequent_y)\n",
        "print(\"Indices of most frequent value in y:\", indices_y)"
      ],
      "execution_count": null,
      "outputs": [
        {
          "output_type": "stream",
          "name": "stdout",
          "text": [
            "Most frequent value in x: 1\n",
            "Indices of most frequent value in x: [0 5 7 8 9]\n",
            "\n",
            "Most frequent value in y: 1\n",
            "Indices of most frequent value in y: [0 1 2]\n"
          ]
        }
      ]
    },
    {
      "cell_type": "markdown",
      "metadata": {
        "id": "714ba204"
      },
      "source": [
        "**(e) For the array gfg = np.matrix('[4, 1, 9; 12, 3, 1; 4, 5, 6]'), find**\n",
        "**i. Sum of all elements**\n",
        "**ii. Sum of all elements row-wise**\n",
        "**iii. Sum of all elements column-wise**"
      ]
    },
    {
      "cell_type": "code",
      "metadata": {
        "colab": {
          "base_uri": "https://localhost:8080/"
        },
        "id": "1910f45d",
        "outputId": "cec4d825-ad4e-4bd7-9470-2bc9b3ae9289"
      },
      "source": [
        "import numpy as np\n",
        "gfg = np.matrix('[4, 1, 9; 12, 3, 1; 4, 5, 6]')\n",
        "print(\"Sum of all elements:\", gfg.sum())\n",
        "print(\"Sum of all elements row-wise:\", gfg.sum(axis=1))\n",
        "print(\"Sum of all elements column-wise:\", gfg.sum(axis=0))"
      ],
      "execution_count": null,
      "outputs": [
        {
          "output_type": "stream",
          "name": "stdout",
          "text": [
            "Sum of all elements: 45\n",
            "Sum of all elements row-wise: [[14]\n",
            " [16]\n",
            " [15]]\n",
            "Sum of all elements column-wise: [[20  9 16]]\n"
          ]
        }
      ]
    },
    {
      "cell_type": "markdown",
      "metadata": {
        "id": "52cb453f"
      },
      "source": [
        "**(f) For the matrix: n_array = np.array([[55, 25, 15],[30, 44, 2],[11, 45, 77]]), find**\n",
        "**i. Sum of diagonal elements**\n",
        "**ii. Eigen values of matrix**\n",
        "**iii. Eigen vectors of matrix**\n",
        "**iv. Inverse of matrix**\n",
        "**v. Determinant of matrix**"
      ]
    },
    {
      "cell_type": "code",
      "metadata": {
        "colab": {
          "base_uri": "https://localhost:8080/"
        },
        "id": "d3724135",
        "outputId": "b63382cb-07fc-4dd1-915f-45c03f4d52ef"
      },
      "source": [
        "import numpy as np\n",
        "n_array = np.array([[55, 25, 15],[30, 44, 2],[11, 45, 77]])\n",
        "print(\"Sum of diagonal elements:\", np.trace(n_array))\n",
        "eigenvalues, eigenvectors = np.linalg.eig(n_array)\n",
        "print(\"Eigenvalues:\", eigenvalues)\n",
        "print(\"Eigenvectors:\\n\", eigenvectors)\n",
        "print(\"Inverse of matrix:\\n\", np.linalg.inv(n_array))\n",
        "print(\"Determinant of matrix:\", np.linalg.det(n_array))"
      ],
      "execution_count": null,
      "outputs": [
        {
          "output_type": "stream",
          "name": "stdout",
          "text": [
            "Sum of diagonal elements: 176\n",
            "Eigenvalues: [98.16835147 28.097044   49.73460452]\n",
            "Eigenvectors:\n",
            " [[ 0.4574917   0.34637121 -0.15017693]\n",
            " [ 0.28447814 -0.72784061 -0.4852124 ]\n",
            " [ 0.84248058  0.59184038  0.8614034 ]]\n",
            "Inverse of matrix:\n",
            " [[ 0.02404141 -0.00911212 -0.00444671]\n",
            " [-0.01667882  0.02966905  0.0024785 ]\n",
            " [ 0.00631287 -0.01603732  0.01217379]]\n",
            "Determinant of matrix: 137180.0000000001\n"
          ]
        }
      ]
    },
    {
      "cell_type": "markdown",
      "metadata": {
        "id": "c524fb97"
      },
      "source": [
        "**(g) Multiply the following matrices and also find covariance between matrices using NumPy:**\n",
        "**i. p = [[1, 2], [2, 3]]**\n",
        "**q = [[4, 5], [6, 7]]**\n",
        "**ii. p = [[1, 2], [2, 3], [4, 5]]**\n",
        "**q = [[4, 5, 1], [6, 7, 2]]**"
      ]
    },
    {
      "cell_type": "code",
      "metadata": {
        "colab": {
          "base_uri": "https://localhost:8080/"
        },
        "id": "ba6667f8",
        "outputId": "d42130e2-f168-4e71-8b71-435e2710ff7c"
      },
      "source": [
        "import numpy as np\n",
        "# Part i\n",
        "p1 = np.array([[1, 2], [2, 3]])\n",
        "q1 = np.array([[4, 5], [6, 7]])\n",
        "print(\"Matrix multiplication (i):\\n\", np.dot(p1, q1))\n",
        "print(\"Covariance (i):\\n\", np.cov(p1, q1))\n",
        "\n",
        "# Part ii\n",
        "p2 = np.array([[1, 2], [2, 3], [4, 5]])\n",
        "q2 = np.array([[4, 5, 1], [6, 7, 2]])\n",
        "print(\"\\nMatrix multiplication (ii):\\n\", np.dot(p2, q2))\n",
        "print(\"Covariance (ii):\\n\", np.cov(p2.flatten(), q2.flatten()))"
      ],
      "execution_count": null,
      "outputs": [
        {
          "output_type": "stream",
          "name": "stdout",
          "text": [
            "Matrix multiplication (i):\n",
            " [[16 19]\n",
            " [26 31]]\n",
            "Covariance (i):\n",
            " [[0.5 0.5 0.5 0.5]\n",
            " [0.5 0.5 0.5 0.5]\n",
            " [0.5 0.5 0.5 0.5]\n",
            " [0.5 0.5 0.5 0.5]]\n",
            "\n",
            "Matrix multiplication (ii):\n",
            " [[16 19  5]\n",
            " [26 31  8]\n",
            " [46 55 14]]\n",
            "Covariance (ii):\n",
            " [[2.16666667 0.23333333]\n",
            " [0.23333333 5.36666667]]\n"
          ]
        }
      ]
    },
    {
      "cell_type": "markdown",
      "metadata": {
        "id": "aab33de7"
      },
      "source": [
        "**(h) For the matrices: x = np.array([[2, 3, 4], [3, 2, 9]]); y = np.array([[1, 5, 0], [5, 10, 3]]), find inner, outer and cartesian product?**"
      ]
    },
    {
      "cell_type": "code",
      "metadata": {
        "id": "ece63a59",
        "colab": {
          "base_uri": "https://localhost:8080/"
        },
        "outputId": "cf9677b7-86ae-4c5a-fd4a-1f0cd4b57c14"
      },
      "source": [
        "import numpy as np\n",
        "x = np.array([[2, 3, 4], [3, 2, 9]])\n",
        "y = np.array([[1, 5, 0], [5, 10, 3]])\n",
        "print(\"Inner product:\\n\", np.inner(x, y))\n",
        "print(\"Outer product:\\n\", np.outer(x, y))\n",
        "\n",
        "# Cartesian product is not a standard NumPy function.\n",
        "# We can implement it using a custom function.\n",
        "def cartesian_product(*arrays):\n",
        "    la = len(arrays)\n",
        "    dtype = np.result_type(*arrays)\n",
        "    arr = np.empty([len(a) for a in arrays] + [la], dtype=dtype)\n",
        "    for i, a in enumerate(np.ix_(*arrays)):\n",
        "        arr[...,i] = a\n",
        "    return arr.reshape(-1, la)\n",
        "\n",
        "print(\"Cartesian product:\\n\", cartesian_product(x.flatten(), y.flatten()))"
      ],
      "execution_count": 4,
      "outputs": [
        {
          "output_type": "stream",
          "name": "stdout",
          "text": [
            "Inner product:\n",
            " [[17 52]\n",
            " [13 62]]\n",
            "Outer product:\n",
            " [[ 2 10  0 10 20  6]\n",
            " [ 3 15  0 15 30  9]\n",
            " [ 4 20  0 20 40 12]\n",
            " [ 3 15  0 15 30  9]\n",
            " [ 2 10  0 10 20  6]\n",
            " [ 9 45  0 45 90 27]]\n",
            "Cartesian product:\n",
            " [[ 2  1]\n",
            " [ 2  5]\n",
            " [ 2  0]\n",
            " [ 2  5]\n",
            " [ 2 10]\n",
            " [ 2  3]\n",
            " [ 3  1]\n",
            " [ 3  5]\n",
            " [ 3  0]\n",
            " [ 3  5]\n",
            " [ 3 10]\n",
            " [ 3  3]\n",
            " [ 4  1]\n",
            " [ 4  5]\n",
            " [ 4  0]\n",
            " [ 4  5]\n",
            " [ 4 10]\n",
            " [ 4  3]\n",
            " [ 3  1]\n",
            " [ 3  5]\n",
            " [ 3  0]\n",
            " [ 3  5]\n",
            " [ 3 10]\n",
            " [ 3  3]\n",
            " [ 2  1]\n",
            " [ 2  5]\n",
            " [ 2  0]\n",
            " [ 2  5]\n",
            " [ 2 10]\n",
            " [ 2  3]\n",
            " [ 9  1]\n",
            " [ 9  5]\n",
            " [ 9  0]\n",
            " [ 9  5]\n",
            " [ 9 10]\n",
            " [ 9  3]]\n"
          ]
        }
      ]
    },
    {
      "cell_type": "code",
      "source": [
        "2.a"
      ],
      "metadata": {
        "id": "HJ1YZNvnucx4"
      },
      "execution_count": null,
      "outputs": []
    },
    {
      "cell_type": "code",
      "metadata": {
        "colab": {
          "base_uri": "https://localhost:8080/"
        },
        "id": "39cadde2",
        "outputId": "38a58a5a-47f8-4ef1-9fb8-bfcd9c009458"
      },
      "source": [
        "import numpy as np\n",
        "array = np.array([[1, -2, 3], [-4, 5, -6]])\n",
        "\n",
        "# i. Element-wise absolute value\n",
        "abs_array = np.abs(array)\n",
        "print(\"(a) i. Element-wise absolute value:\\n\", abs_array)\n",
        "\n",
        "# Flatten the array for percentile, mean, median, and standard deviation calculations\n",
        "flattened_array = array.flatten()\n",
        "\n",
        "# ii. Percentiles\n",
        "print(\"\\n(a) ii. Percentiles:\")\n",
        "print( np.percentile(flattened_array, 25))\n",
        "print( np.percentile(flattened_array, 50))\n",
        "print( np.percentile(flattened_array, 75))\n",
        "#column\n",
        "print(\"\\n\", np.percentile(array, 25, axis=0))\n",
        "print( np.percentile(array, 50, axis=0))\n",
        "print( np.percentile(array, 75, axis=0))\n",
        "#row\n",
        "print(\"\\n\", np.percentile(array, 25, axis=1))\n",
        "print( np.percentile(array, 50, axis=1))\n",
        "print( np.percentile(array, 75, axis=1))\n",
        "\n",
        "# iii. Mean, Median, and Standard Deviation\n",
        "#array\n",
        "print( np.mean(flattened_array))\n",
        "print(np.median(flattened_array))\n",
        "print(np.std(flattened_array))\n",
        "#col\n",
        "print( np.mean(array, axis=0))\n",
        "print(np.median(array, axis=0))\n",
        "print(np.std(array, axis=0))\n",
        "#row\n",
        "print(np.mean(array, axis=1))\n",
        "print(np.median(array, axis=1))\n",
        "print(np.std(array, axis=1))"
      ],
      "execution_count": 5,
      "outputs": [
        {
          "output_type": "stream",
          "name": "stdout",
          "text": [
            "(a) i. Element-wise absolute value:\n",
            " [[1 2 3]\n",
            " [4 5 6]]\n",
            "\n",
            "(a) ii. Percentiles:\n",
            "-3.5\n",
            "-0.5\n",
            "2.5\n",
            "\n",
            " [-2.75 -0.25 -3.75]\n",
            "[-1.5  1.5 -1.5]\n",
            "[-0.25  3.25  0.75]\n",
            "\n",
            " [-0.5 -5. ]\n",
            "[ 1. -4.]\n",
            "[2.  0.5]\n",
            "-0.5\n",
            "-0.5\n",
            "3.8622100754188224\n",
            "[-1.5  1.5 -1.5]\n",
            "[-1.5  1.5 -1.5]\n",
            "[2.5 3.5 4.5]\n",
            "[ 0.66666667 -1.66666667]\n",
            "[ 1. -4.]\n",
            "[2.05480467 4.78423336]\n"
          ]
        }
      ]
    },
    {
      "cell_type": "markdown",
      "source": [
        "2.b"
      ],
      "metadata": {
        "id": "dZMtikfpuZWw"
      }
    },
    {
      "cell_type": "code",
      "metadata": {
        "colab": {
          "base_uri": "https://localhost:8080/"
        },
        "id": "84024b2a",
        "outputId": "f23bbfb5-ad0d-4cc1-ad72-f828696454d1"
      },
      "source": [
        "import numpy as np\n",
        "\n",
        "# Q2 (b)\n",
        "a = np.array([-1.8, -1.6, -0.5, 0.5, 1.6, 1.8, 3.0])\n",
        "\n",
        "print(\"(b) Floor values:\", np.floor(a))\n",
        "print(\"Ceiling values:\", np.ceil(a))\n",
        "print(\"Truncated values:\", np.trunc(a))\n",
        "print(\"Rounded values:\", np.round(a))"
      ],
      "execution_count": 6,
      "outputs": [
        {
          "output_type": "stream",
          "name": "stdout",
          "text": [
            "(b) Floor values: [-2. -2. -1.  0.  1.  1.  3.]\n",
            "Ceiling values: [-1. -1. -0.  1.  2.  2.  3.]\n",
            "Truncated values: [-1. -1. -0.  0.  1.  1.  3.]\n",
            "Rounded values: [-2. -2. -0.  0.  2.  2.  3.]\n"
          ]
        }
      ]
    },
    {
      "cell_type": "markdown",
      "source": [
        "![image.png](data:image/png;base64,iVBORw0KGgoAAAANSUhEUgAAAt4AAAEyCAIAAABCmEBsAAAAAXNSR0IArs4c6QAAAERlWElmTU0AKgAAAAgAAYdpAAQAAAABAAAAGgAAAAAAA6ABAAMAAAABAAEAAKACAAQAAAABAAAC3qADAAQAAAABAAABMgAAAADnMuM6AABAAElEQVR4AeydB5gURROGyRnJSM5JchIkCEhGUJD0gwIiIFGCIEiQIAKiooIgkhEJAoJKBpEgkiTnnHNGcsb/PUqacXZ3dm/vOPag5uEZemqqq6u/ntuuqa7qifjPP/9E0EMRUAQUAUVAEVAEFIHAQCBSYKihWigCioAioAgoAoqAIhCEgJom+hwoAoqAIqAIKAKKQAAhoKZJAA2GqqIIKAKKgCKgCCgCaproM6AIKAKKgCKgCCgCAYSAmiYBNBiqiiKgCCgCioAioAioaaLPgCKgCCgCioAioAgEEAJqmgTQYKgqioAioAgoAoqAIqCmiT4DioAioAgoAoqAIhBACKhpEkCDoaooAoqAIqAIKAKKgJom+gwoAoqAIqAIKAKKQAAhoKZJAA2GqqIIKAKKgCKgCCgCaproM6AIKAKKgCKgCCgCAYSAmiYBNBiqiiKgCCgCioAioAhE8QOCi3//vWff/r179589dz59ujSZM2XMlCF99OjRPYnavnPXxk1brl67liljhtIlX44UKXj20K3bt3fv2esqPEqUKAnix08QP16MGDFc74YN5e9Ll44cPWbaSpsmdbznnjOXYVxYt2ETUJ+/cCHZ88+XKFYkVcoUa9ZtSJ7s+dSpUoaxJrbmrly9evDQYUPMlSN7xIgRzaW1cOr06VlzF2RMn65UCZ4T9zxW/sAs796779atW6IbfxdZM2dy1vNJDdz9+/8sWfYnQ1OlUoVkzyd1VlLvKgKKgCIQZghE/Oeff3xvjJn40wEDZ82dT5XMGTOmTZNq05Zt586fjxkjZvs2Ld+sXcM25fAD3bl77wWLFpsmsmXJMmbYN/HjxTMUr4UbN24OHTl6yR9/Hng4vUWLGi1q1CjXrl+XuimSJ+vRuWOJ4kW9igp1ho2btw4eNmL1mnUiuXvnD+rWqhHqrXgViLHYtWefP5avSJwoUZHCLx49dnzzlm0F8uc9dep07+5dXipU0KuEx8qwa/feD7p2N8O3dP6spEkSu22x2v/qYfVy65sB/cu+UtItT+ATv/zm22m/zLx0+TKqJkyQYPnvcz3pHMYDt37jpgL58hplFi5e2rZjFy4xnn6ZPN7QtaAIKAKKwJNFIBgOjD9XrHqtRl3skogRIn756Sczpk5g/vhjwaza1avduHmj7+dfNni35dlz56z9aduxq9Uu4dauPXsGDBxi5fFajhkzRoc2rb76rK/hLF3q5bV/Lpo97UcMHYgnTp5q2a7j1Om/GoYwK+TLk2vkkIH4b8KsRdeGMC6x/7BLypQqyaz/2Sc9J40dMXTQANxax06cuH37tmuVMKZky5qZEfTa6M2bNw8dPipsWDNe+QOWgc7Wf/N/XtUL44Fbu35jo+ZtrFoZkA8dPmLcPFYGLSsCioAi8EQQ8NU0OXnqdIcu3c9fvIiWTRrWr1S+rKiLmwRXQd7cubjknaxbr0cGxPyFi/buPzB22JAVi+bh1YgaJapU+WvteikE65woQQIbf4b06UYNHYSdBP3+P/eHjxlnYwiby8iRI8d8citK9HHHrt1/rlxFoXyZUmYRpGTxov379AScO3fvhg0Ozq3EiRPHmYG7LMzxaOESy5Au7RuvV/bKH8gMcWLH9qpeWA7clStXO/fo/c8/961aAXL6tGkB/N13GjgsyFqraFkRUAQUgTBAwCfThNe7bh/3IVgEhZjt6tb+z5oFc7OZSJavWj3t15mi981bt74fMaTwiwWICKlTq3rFcqWFnsqv0IeI7iJUEiaInyZ1KhF78tSpAwcPSTmMz7ZlrDBufdv2ndIiiwg4HkzrWCeFCua/c+eOoTzBgo8Qvde8ycrF82dPn5wyRfInqG3Im/YQS/MfwWE2cKzDtmjbgT+Q/zQfIQLRSLOn/wjgLZs2tt3SS0VAEVAEniACPq1EbNi02YRT5MiezTVirkSxR3EeQ4aNqlntdbpUrcqr1o4lT56MSywbuWtuLfh98fhJUwggbfde8ySJ3YcgGGZbgXn39JkzQsStYo33vH79xpTpv2zZtgN7JW6c2EVfKvRqhXLp0qYxEjZs2jJizLjDR44SnFsgb+7Fy5b/MHKoucvK1Mix44nYuHvvXuEX87/X7N1YsWKau9t27Jw977cVq/56PmmShvXfNHSvhZ9+mbF85eq9+w5kyZyxWJHC5cu8YsJmh44cc/Hi3yLhxfz5kiVLOn7S1J27d+fLk/vtt+pmypjek3DsM7m1dsPGtxo179qxnYknePN/NZMl/U9445z5v81fuHjf/gMZ0qetW7tm8SKFrWLBBIb9Bw6eOXsud64cxV4qRICkWBUES06aOt0wt2za6PTps2MnTALA5o0blipRXG4xmkuWLd+2fUfsWLEL5s/7bqMGrnFFjBqdXfbnimjRoyO/dvWq1CViafjoR34vDFnphe+wHDt+YvS48Tt378VDwBIS8RNEJCEZo/btt+oYzW0Fhy6z3jF9xizD36ZF04lTflq2YhVuOryG9erWNrcoEBE1a96CRUuWnjp9FoswSeJE1rtuy8EaOOKHfpg0hQcP9AgneqVE8fx584hY56HJmDF9s/faHzpyBGYe5r6ff0Xh9Vcr7jtwYMeuPSIhdqxY/PUFq7/+oS3N6VkRUAQUAWcEfDJNdj78CUOWdfo3opmho0SOzA8flDNnz164cDFhwv+sv0Ah84K7/AJWrljOVCSU9aOP+3LesHlLggQJPmjrPSLB1MWXM2joCHwzQnmrTq2oD6YiLgmlbNKy7bVr1z9s34YJ8vOvvkH+5J9+njphrNhV5FA0bNoSzh5dO2EoDPx2ONKM5C3btr/3fqdzFy6wVrX/wKHvJ/xInM1PE8ZKKhDTQ71GzW/fuZ0uTRpml7YfdCHUxtT1VLh7926nj3qxyJU8WbL2rVtgAfTs0//HqdN/GPWdOP9ferEAETOXr1xBwvzffr9y9do9jvv3iB5dv3HzL1PGR48Wza3wAvnzYfD9EyFIf0yZ+k1aFC/yEjhnz5a1XOlSpgodBOpfZs3Jkytntw87fNCl+9JlKz7p0bV61SrC0/vTLyZP+7l0yRJv1q45efrPM+fM4x+tt23ZDAYyfeLGjTNs1Fhhzpn9hT6fDZBI5LHjJ2GaIP/rId+N+n587hzZ69Sq0e+Lr7bu2LF81V9Tx4+2LRY0atHmxImTdA1R6zZsjBYtKlYsFkzmjBl69ftM5GM5iWniIywrVv/FkJHMRe86tntv8LBR8377XUTxZHoyTZy7nDJlcrxQxjph1ez48X/V3rhla6xYsQx0NNS15ycSVvXaqxVJjNq7PyiY1/nwceAQgkAes0tXLhNknStn9h69+40eN6Hfx93F+ncempw5st+7/2gdh6cXgQXy5QHeqT/P2Lx1G5fE6vLA+N5f/9B2RkPvKgKKgCJgEPBpQWfn7n/frqhmXvWMCCk8Z0maZeI3d0kcZeqq83YT8SeP/3EqPhhz9xaWxcM4zVu3Hi1GGAa3hb379pMoVKveO2N+mABDtiyZCctt3uQdwzxq7A+8hd+5c7t40Zfe+l/NFwvk4xamBpoIz6Qp0zCkokaNVrRwoS4ftPukR5c7d4nKuMtdzkwzMKdOlYqZgJDGyJEi7z94aMyDupcvXyG2F7sEzv6f9Pi878ekwIhM5/OU6b9il8BTr06tyhXLd+/ckfKuPXvbfNCZHE7KvARnTJ+OAsflK1e/Hfj5vF+nyiWvvKtWr5Gy65kRYV6x0llWq/XWO5g+t28/Ws3BNMQugY1EKpwltWtUw5r5YuBgegSRQMgp036hgLTyZV9p3bypCBw++nucEJQxy8qXfkWInLv07E2AUYwHGeN4vKAgH7uEQqf2behj6pRBGcvM0Os2bqJgPdKlSbVm2e/Vq74mxB+nBDljCCVmpncNKPYFliCzr1sveZDwbWAnNaz3r5sEM2vDyqXSkO3stctx48QxMVXUJQLmrz8WGl/gpKnTjMDvx08Su+TlokUIQ8Ya45k0dz0VfBy4B2luH2OXYMJ269QeBV6vXAmZGCjiy3QeGgy1Vg/Xa7DSfvx+JP8qlivDSujLRV+y6uZjf/1D29qQlhUBRUARcEbAJ9Pk9JmzRkrMmI/WNQyRQmxL3B+7U5hbZ8+ew0NAqohQsBjeadZapkMoOFf43cSf/ELWrHVqVje1nAuXLl3esXPXufMXhI0Q3VV/rbU2uu/AQW5hfMhvt9GZRXepcv5CUDwv3g5sppWr1/Cmy8+0mCakIEma64v588JDflDiRAkpzJozn/Nfa9eJjcXeIblz5oCCE+i5uHEpOBz3798fNnKMMBC9S4E3XXpNAQ1NiEy0h34RZBZ7qTChALFiBvFwiMJSdj0Txtj0nbcjRXw0mpgdLB41aNKcpRnhHzR0uBQK5g8y1CRGhwRXCaHF9hK/C34O7saK+WirGANa9OiP3DaFCuQf+e3ABTOnDR04oGvH96mCEcOZg6Hk/OpD31iqFCkekB+denTpBKpZMmUUksnqwi6J/bC/j7gjRPAKC8t2ZOFKFUCjkPJho5iDruaOcPrSZdM0Vbp16sCinlEbR6DI4fzLrH/TgyuULc0lXiITfWV43BZ8Gbhpv8469WDVkuVI2ROIJUik8XiLNfmgRaehcds0RNfn1pf++oe2Jx2UrggoAoqAKwKPJjPXe4aSOtWj2cX6i2wYKFy+FLSLgxz4Gx4WIzATT5v4/YTRw0wcCf4JXusNQ7PGDVctWTB90vcZM6Q3ROdCwQL5xo8etnT+zA/bt2U+Zn4l9vaNOg1Y/5aKH334AYvxBLWQZvzLzNniteaWGB8UypYuKZyYSu+2ajdg0LffDfpK1mvMAvyRY8cHDhnGP3wYMCOcZf4dDx1IrgE3ItDt+fiJk5LcxF0zHxiDifUjWy2zMhUlSmS5RdM2HtsljhPehiVVytzasn0HizhcApFYVORJMZ/RqYWLlggbMzQF4MK4YQcU3stxJ4wY+4Pc5WxAMxQK5coEeVAY01IvFwO38+cvHDx8WBhkaQy/y5jvBs+ZPll8Kta60juip4VoluSsPG7LnmBJ8DDahlpseBN0fpjOzZqYdanOKja4Xf5XbZcRwVtz8NAhkfz880msTfhSdh44JJjHwzw5sR6+Hmx2eXLgtw2NLzq45fHUX//QdtuEEhUBRUARcIuAT6ZJ+nTpTGXzFm4oFFiSx+FsKBkzpDNlKeCWZ+IUPwEUtliwMnh6r7XyuC0TQ1Dl1Qpyi9l34LfDpJw/b+5vv/6CiZZ1jb6ff+06r7M2kTJ5cmHGW8DCUOfuvfBtQDly9KjQr169Fptgztixmjdp+P57Ldq2akY4itkKwkx+wux8JlbUMBjfg0laIYnU3PVUEJeG27ts+0aSNreIQgja0WTgAOv2o1iBeJWMAtiFQc6J2LHwndAp/hUuWIC6vI4zR/bv3XPRkj+q1Ki7ZavdWrI1nS5t0CKOOQ4fPWbK4gQijRn806dLa+ieCp5MB0/8VrrAkj5tmkwZghwJHEShBp0fBkez+7DB+cH9R6fgdvlRzQelfx5es7woUVYQTIb8w5tO//sycNQ3Y2eenAgP83/wFBp3kWnJNjSGHsKC6a9/aIewda2uCCgCzxQCPpkmBGSYxQIcAK4AMfkZYo4XspEtbC5NgT1bG79dTy6D5XIwEtwWChfMb+hbH6bREuDSvE2HD7r24KV54phhEmti2CjgmZ84dkT+PLkNcfb832T1x7zNp0j2PP528y9oy41oUR9OChGsW1QRhWrkuC0QQGroZqY0BpOx2AxPsArE7vz08wxTBTfG9EnjGtarayhspW86BbHMKyVMpyiQ3S2c+FGq1Kjz6+y55J4M/vIzU91tIWmS/7gHYsSIbth8iQA1zKFV6NyhLVsSI23oiNHsr0OUKGUWX5q/+45DE8HqsoMcc8s8FV4fCar4MnCwGWeJkWmeHChE45rWpWAbGtvdULn0D+1QaVqFKAKKwLOAgE+mCZmr1V57VeDAb288zAagGXPmmXKn99uYsq1gTIQ8uXKaW7zxf/bVIFYZTDysueVL4dr1R9kxsR/m93bv3W/ZipVUb9WsSVZ3AYlMwIRQjBs5tGmjRyEassxkdtRYvXa9dfWKWGAMHfJrRKuTp88Y9RxcGsKTweJ2whkjRDONma1ZjMDgFoioIFna1MIfwCiYFOIUKZKZTsEzd8FCw0kt+boNnpsOXXuwdQ0dJK0porfv15hpUkSRrGRkjh3/o5k7DfFxF0gO5wMIGNBEFnf66GNMz3atmk/5YbRE47ptPbhddisEYoqH7jfK5qnw+kiINK8DB5vxPMnGQlDMk0NmnGvelm1o4Df2tDQa8rMfaIe8UZWgCCgCzw4CPpkmwNG6RVOzQwb7bVgBYjXHhONVrVxJ7A8mp0YtWleqVvv3JX8YZtmGnCmz0INFBOjEMZDlO27i5I8//fzHKdMMp2vh3r2g9Bk5ZOWFMhko1omWTTIg4jL5ffG/jbKHPdmSJs7UhE2wiTsJLEEu/VbNyRAWsaRQUij5cnG5vH7j+ieffSlV/lq3vl2nbpTxSchdgjf5fhBlZrjrD7/mc+fOIyWFTc54TUjKlTKf36OAkjcebI+Gy8QEvph+mYJZ7JAsHqtMa5mImV59+1splCUigbgfpmdSc405OOHHqWJcYmm9/2HXVWvWwTxn3m/SU6Y9ttD4ffFSI83sJ0sqsyHapl5MAZJT5C4bZnw7fLQoTM6OODBMj+CR8j8PM1pNH4NuPdyu9N7de6YtU9cUTBUDy4Nd2FtXrVJp2W+zF835hTAXjE5b0rIRKAVfumxaDNLtgcIs6slhbpFoQ760EE0Ej1mydLbSvA4cYnkrEGtDnhwoZlH19SqVpF2HoYHBxOiw8MSfzL79B9m6Bvr9h50xaJtOBd310F9u+YE2tfRQBBQBRcBHBHw1TXg/m/T9SElPwBpgszKZFci1afV+J+I8aI9U2769ukvD+EJYHzl89Cj7MfT57EvcD8SiYoI8nyTJ5316mf3UT5H88/CzO5u37XBQ+sDBw+buho2bcdr/sXxl87btN23ZCp3f7jdeq9yw3puUo0eLbhZQvhs1pnb9RhLHyi1+Ukk55jeXqRR9JHVW3CpEYJR8YHaQWGv8DQt+X1S5Rt36jZs3bfV+5/ZtmOrIRjbz0Mf9PmOaf6/9hybU4LffF0vYh1HVFNjLRNJt5OOI835bJLew+cyuaxcefAcAuiQf8ZZsfCFW/42RaS2wIMWXBC482LSNDi5euoy93ejUF317CRsOJHJHKeOdatCk5TvN3itb+Q1ynerUfANiogdZSBTQoWK1WmwsK7U4t+vYdfqvsyiYkaJM3KthkALfd2TLcymPGDuuVIUqFV6viVdAvndouhZU94FxxmerhZleyia27Fpm+nvIEp1j6jrAggGEqbdu42YShRiU8T9OAWdyryTzWRqynX3psmmaupgRnE22GqNj/HwkrsuKJxt+sOUgyefGIscGdfYIeh24F7JmeePB3jMELPNlaWwL4oHQBIvznYfb/TkPDU+4CYLp2uuT9p0/kkwc6RGiCBSTmBUf++sH2rSihyKgCCgCPiIQuVevXj6yxokT+7XKFRMlTMivM9bJuIk/8uv/9eChR44dK1LoRQIqCSUxgRTkbhC+x25mvF5v3b5jzPiJs+YsqFCu9Ddf9hfnhDT63HNx8TqQEsJnaDq2a+12Pzdm5aat22PWEMIpta7fuPHLzDlz5y+8efNWpgzpcS/3692djTqkdeIqWIDHZMGHwd61A/p9UrPaa2xRyjzPrm59e3UjcZefeLYJx6EydvzEn2fMZtvQ/p/0lIBQmqhUruy+fWQQB8WuXr58mVhY1jjKP8gLpYkKZcts3LSF8Bqm2OUr/2rVrPHWbTuYpUgnxkURP95z1ihUUZgzeQ2vlHx5DcbR5q1sZzZ/4e/4S3p/1AW1hadZ6/abHux/xaVEPvb7/GsT5Lhp8xZwY6MzI9AUNm7ecuLEKfZKwVxjXly09I9vh4+aNmMWQT+DB/QnNlY4WTZ6IVvW5StW37p9i+3OLlz4+6XCBb/8tI/kJaVNk4Z9UbEUsZP4XuOQrz5jwWv3nr2RIkdmm5CW7zbC0cKOcLcfJgr9uXI1Xw/OkjmTUYMUawaC3GNZdwD8F7JlGfTFp/HiPUdqd4fOHz0y4BYuYWocMmykuF5wgcxd8Hu50qWq1n7r2vV/V7t27toN/cUC+X2EZeiIMSjMYPGFJnTDLMM4mDl3/sTJ0/LkyiEZxUZVKXjtMra1Ve1FS5eR/gPCUh37D78LH23A90ZaL+nKK1atpo/syXv37r1qr1VmXFhtyZEtK89Mvty5TEKWUcPHgYO/1MvF8WmRj/PrzDnTfpnBMBH+NWLI17LTLka289AkiB+PVwtSzxgadMNKJpNr8HcjR40db7xfDAE8GFVmmBz66wfaptdaUAQUAUXAKwIRjW/cK6uV4ZvvRpiNQUl14Uscbp3n/IbuP3gQdzG/3UwP/IhbhZgyYRzsfmFcHYYekgILE+zmhukjQugmr+nMpnKJYUFeLmYWoQm8sufKkd04vU2jvO/u2LmbQA238Qp0jXUiZl9iftdt2ERSktvgXyPNFDDsWPJIkSwZmBhLztz1o0CwCNuEYBhRF5/N8eMnsDYw8og7dpUPDvCfPX8+X+7cRPXamuM1OmGChManBQJsN4eHycbmcIl87CrgZf0oWBUdZPpyi+zxnp/0NxOttUrG9OlnTZtkpVjLIe+ykcbaDYHYRATzQewTJ09iQGdMn84agGw4pRCsgaMK/pI9+/ZhYbPPb9w4jwKrbWI9XTI0dJZ3Bk8MvtP9Rtv3JpRTEVAEnmUE/DRNcBK8Xuuto8f+TRn9X403enbt9CzjqH1/sgj0++LrCZOn4igSkwhr+NKVK3ymh1192bJ2/Yolrlbak1U4XLeuaIfr4VPlFYHARyCKfyriqR43Ykiz1h0kU5QP6eGBL8pnx/LnwzPh++Zp/rWutRQBKwIszGGXQBk26EsTQcIl3rgab779crEiapdY4QphWdEOIYBaXRFQBLwiEIxYE5usOHHi8DkPNlFgoeTq1avHT57avmM3P1vsWM+bq41ZLxWBx4dA3DhxCRhiAYWgJWJlWPLAUCZUgnAKNgXp1a2z7WOTj0+TZ0Gyov0sjLL2URF4sgj4uaBjU5plbCLs/Fj/tsnRS0XAPwSIgJ00ZfruvXsJ5SF2mDgbQkz4lHHlSuVDuKOdf/o83bUU7ad7fLV3isATRyB0TJMn3g1VQBFQBBQBRUARUASeDgTcp8w8HX3TXigCioAioAgoAopAuENATZNwN2SqsCKgCCgCioAi8DQjoKbJ0zy62jdFQBFQBBQBRSDcIaCmSbgbMlVYEVAEFAFFQBF4mhFQ0+RpHl3tmyKgCCgCioAiEO4QUNMk3A2ZKqwIKAKKgCKgCDzNCKhp8jSPrvZNEVAEFAFFQBEIdwioaRLuhkwVVgQUAUVAEVAEnmYE1DR5mkdX+6YIKAKKgCKgCIQ7BNQ0CXdDpgorAoqAIqAIKAJPMwJqmjzNo6t9UwQUAUVAEVAEwh0CapqEuyFThRUBRUARUAQUgacZATVNnubR1b4pAoqAIqAIKALhDgE1TcLdkKnCioAioAgoAorA04yAmiZP8+hq3xQBRUARUAQUgXCHgJom4W7IVGFFQBFQBBQBReBpRkBNk6d5dLVvioAioAgoAopAuENATZNwN2SqsCKgCCgCioAi8DQjoKbJ0zy62jdFQBFQBBQBRSDcIaCmSbgbMlVYEVAEFAFFQBF4mhFQ0+RpHl3tmyKgCCgCioAiEO4QiBKwGs+cM//osWOtmjVx0HD46O/TpE5VqXxZBx7rrcuXL+/cudNKcS3nzZs3evTorvTQohw+fHjEiBHjx48fM2ZM2bK+ah5arascRSAUEeAx3r9/f69evZA5aNAgnm0jvEGDBvwpmct//rm/dP/8/ed2NXmpvSFaC2eunlyyb+7pKyfypHixWPoyUSJFtd71vbz+2Mprt68a/hhRYhRKU8Jcnrpy7I/9C47+fShBzITZk+UrkraUueVfgR7tObedc4JYid/K30yE/BPhn2X7f9t5evONO9fSJMhYMmOFxLGf908+tcDk120TS2So8MLzuR2EXL11efupjfvO7Tx++UidvE3SJMjgwOx6y+sAmSpuu2zuOhfOXTu94/RmK0+WJDmSxU1ppZjy3J3TtpxY906hNs/HTWGIwS04CHF+VC5cPzt/1y8nLh9NEDNR/lQv5Uv5kml69+7dw4cPN5cpU6bs0KEDl3379s2UKdP//vc/c8u/wsSJE2fNmrV69eqSJUvydzRjxowFCxZMmDDhxRdf9E/gvXv3EPjdd9/dvn17yZIl/gkJ41pRwrg9X5q7fPnKh90/vnjx4rDBXznzv1m7Zqv2nZYuW/5R5w/ixonjzMxdZDLMP/7446FDh7hMkSJFzJgxKdy4cePUqVP379+nvGvXrqxZs1J4HMdPP/304YcfHjx4EOE0+jiaUJmKQBggwJ9S/fr1z549O3fuXGlu8uTJ/JhCjBcvHpR//vlH6Pfu31u8b/akDSMwCNLEz+DWNPlxw8gxawYliZMsW9Jc/Rd1zpWi4McVBsWMGju4HTly8UCXOc3u/xP0hyzHC0lzG9Pkj/3zv1jS7ebdmw9vRiiYqujHFQdHjxLDUHwvYAQMWd5326mNeZK/+GKalwukKiJ1b929iQ5bTq4zosat/bZT6b7F0wf7PYR5Edx+3zPz7v27IOPJNAHhiRuGT9v8feRIkUtlevXF1MUTx05qWvda8GWARIinLnttwjAMX/XFkn3zzCWFTysPd2ua7DqzddCy3vf+uVcrT0O/TRMHIc6PyqELe1v/8uaNO9dF1R83jny74Hv1C7aQS57tO3fuUL527drYsWMxwcU0adWqVdWqVTECvv32W/krEP5gnXv06DFp0qRhw4YlTJgQYwLrP0GCBBcuXPjzzz/9Nk14B96wYQNv5n5LCFYXQoU54EwT7IP2nT+6d//+mGFDYsUKshscjrhx44z8dmCTFm3afNBl7LDBDpxyK23atP369WOcypQpAwXjtFSpUnILc/Kbb77p2LEjT5tQQvGMRZIjR47s2bPXqlWrZs2aWNknT54MRfkqShEISwR4CePVkPOiRYvi/PeVoGfPnhkzZrQqM2fn1NWH/2DCthKtZZwlo9cMzJAwy9CaU3GWjFr91eRNo7/6o2e3sgOsbL6UJ2wYFjlSlLgWm6ZOviZSEd/DgKXdmVQwEZLFTbF479wLN86tO7byu5WftSvR0xfhVh6snM8Xd4XS9uUer+X4z1vyyNVfYZekjp+uUOoSxy8fpu/X71zF3hpR+5cUz6W2CnEuYzH0+71jvBgJsEscOHER9VrQZuPxv3IlL9C1zOeYdw7Mbm95HSCp5dBlt2JdiUf/PojLKm705yJFjCx3U8VLiyHlynnz7o1PF32IXeJ6y3eKsxCHR+Xu/TuMV6bEL5TKWPH4pSML98y4cuvylE2jauSuHyta0AtwtmzZBg8Omm6OHz+OaWJUih8/Pu6NcuXKVa9enT8NQ/e9sHDhwk8++QThMkldvXqVSYq32bt37zZq1Mh3OTZOPCXYOi1a/Gta2e4G6CV/qwF1fP714Bfyv3Tg0GHftTpw8FDuQi//9MsMH6vgjpPBYMBsVV555ZVly5bZiCG8xL7OkCHDb7/9ZuTky5cPBWbOnGkoWlAEwhECH3zwAQ8w/kWrzi+9FOTx3rdvn5VoyrzTl/ku+zs/VjEUKdy+e6vu+DLcWrpvnlCu375adXThcsNyHrrgXpRNgrk8evEgtRbtnWMo1sKk9SOqjy12/tpZIV68fr7exPK0W3lkgfv371k5vZb3nd1ZcXiest/l+Ouw/bfizr07VUYVHPPXICNk6qaxtMK/HzeMMkTfC3iAXh9dyIqPre4nv7Xnbttf6t29d9d2K1iXngZIhDh02fdWPv39Qx4AX9D++o9er40K6jX/aNr3JqycDkKcH5XpW37oOqc5QynSlu6bL5pQsMqnfOzYMZ55vCZWOjED0aJFGzlypJXoY7lbt24InD59uuHHX2LKISmwXIBkvCYhERKWdSOhbuAcO3fvGTt+YoF8edOnTeO7VunTpX21QtkBA4ecPXfOl1o8N57YMC2tC+Se2IJFf//99w8cOGCtEiVKwDmrrOppWRFwQGDjxo0DBgx4+eWXg7XuGTd6fLcy953bRZQJt/KmLCwMrOPkSJaPKZlVHrdVPBFZ1OAWnglCPVx5dpzehHckYazEcit+zIRvF2xFmXfr89fPuvJ7ouD+6ft7xzv37/wvb6NCaV62se09uyNtgoz1C7Y09Jp53k75XNCv2YlLjwJxzF2vhYgRIsaNHrRA5vZYsPtXInieixG/W7kBrOa45fGR6GmAqO7cZR/lH790ePG+OVmT5rRGArmtu/rw0tk7prZ5+SO3d30kOgtxflSq5nizd8UhUSL9+ytdLH3pqA8in5I/l8qX1vGp1KlTBwe8H65x/rhowjpDsZrjS6NeeSJHDtHj4VV+qDME1hw5cfJP9LDWG1Vt/bx169bqteuXr1x17979PLlylipRLN5zz1l5ShQvOmPOvL6ffzXw835Wuu/llStXsrbHU2Wtgr8Ob8eqVauSJUvGS2GlSpUiRowoDH///fcPP/xw+vRplgYJUFq3bl3r1q1ZsrFWv379eteuXYcMGQJx9uzZhLPkzJlTXCbCdunSJalbtGjRN998M3bs/yyur1ixAv/e3r1706dPzzKQs820Z88eVv1R44UXXsD3g0CjCV1DVdZBI0WKRPRW5syZUdVBf7eitmzZsnnzo/i1/Pnzs0RFE+ADCBRSp04tq2Osj+7YsQNYkiRJYnSwFYizWbx48fz581kUANgqVaoAvvB4UswTnVohVNiq2+2793YcDnqxthJdy9nTJo0e1c2f+vLly1kbbtmyJYsaP//889KlSwsUKNCwYUMzstKLWLFivfPOO4wXT0WiRIlq167tPLgOcKFbcMfXkzQeRdNxfsh4IBHOQ8tDKAhUrlyZYRJX9rvvvusKiwPF08R58MIeasWPkYCVC1M9Y+Jsfx1ZtvPMFkPxWsDxvmjvbAya936ukzBm4ldfqFmvYAszu1D9k0rf2oSkjJcWynPR4yUKTmQGC0BH/j5ArYaFWtsEckk4yJDqk610bIvk8VITmpo+URYr3fdy5IfLH7YqdJlgF4h18zZJEoIwWxHraYC469xlm1aeLrEGGJ2Fe2YyTDmT5W9R9MPMSf7zaykV/75xgXW30pkrl8lSpf/izp6kOdOdhXh9VGxQXLxxAUs0b4pCROw6t2vuvvrqq/zk8jM7bdo0Q3QuyA+pZGnww8gPBb8SLAxRiwlo3LhxLOgUKlRIhHj9nRE2+WFcv34981fy5MmdFQi4u2HponFu68LFi3lfKsFqDgUr58bNW6HXqvfOxCnTmrRsC0P1um9fv37DynPx77+h5yhQ9PyF/9S18piyRKEyEtYFHaaKqVOnGh4KPFXM5W+//TYxKEWKBMW4EeJEJBG3eEokfhb/GBHUMqgVK1a0VqfMuiMmhcRD8ZZJmZ916BKL9PXXX7PQYx6I9957z1Qn4AZfC/NZkwcHauBocfAQohg8Hz04EidOjP0k0wwdxBiSJvr378+zLuXXXnvNk/6eRGH0FCxYUKrzB2Oc+cxbzz//PH0kChL9MebEevv0009Nd2wFptIYMWIgDaOtfPnyyMRcY1UVNk/AeqJTJYQK23TbeeRs9ibfev139MwlW0WWlsVWozvkXhnYuWzcuDHMmKHYKAJ7vXr1sBQFTM5khGHH2ASaSwe4/BhfB2ndu3eXVyvCR1hBFwXOnDnTvHlzlGTQT5w4QdwrY8clBaOhFJwXdH7fMwuvuOuCzpDl/R7QK1ulTds8DiKLJr44/6XihHXfVRqRTxzvcm7+U82Tl49axdrK5F/A+dHclja6w+X5a2dYx6FWt7kthq/8ouPMRm1/eYvClZv258Eq5M3xZamy58x2K9H3coOJFaluFrxMxYF/fAwdfX7a9H3fhR+0nFbr4wXtVh5cbBiCVfA0QP512db0tVtXao8rKdChM/8qDM89deMYGxuX3ee1YoHv6q0r2DHC6ceCjrOQYD0qeIw6z27KCGLuuGrrdkEHtnMP/Pf8JvPn41rLLaVLly6vv/66TBb8KVFu1qwZ0QW5c/+bliWrPF5/Z4xw+Pm1qVatGj9HvFTLr004WtAJCqQPkGPugoWYF3kKl7DpU7X2W9DXb9wEnZfsUhVe43LJsuU2tgLFSkOfMfvfFWvbXeulMU3eeustvBoEGWE3MKFaTZM//viDCUMmFerevHlT7AkmQi63bt0qy+2MN2/8/I6XLl2alGBrK6YsL8TWWBMRRV0Cua9cucJ7NmWeY95QpRYPE5Q1a9bIZZ8+fbjEsDh61M1PLY8gdwnsFWacFlzyss4lHsVNmzaZWHECv3nZxYRifnKrv4MopDEb8YqP8M8++0za4kz4MC7HL7/8UigMEA4b3q1x+RgeWyFXrlwIIeAcOuFdBAVzSVg7l56A9UQPucI23f6+enP0vA1e/12+dtNWEdcRzljxjvAsDRw4EPBZ+KBrHEBHyNHatWsxCoWSJ08enjeMMwkj5Z1GjDObWC4d4Aru+DpL4y6+LtR77rnnGFajyRdffIEDDF8LFAxQGPjTMHdNwT/TpMOMhsxATPBGDgUSPmVaOnP1378I612H8pkrJ2du+5FQFaneavr/CCb1xN9rQVvY1h31+KC6VkS4SOaMTcM/7CfKTF0Xrp9z5Ydy8PweGGwddMvpiejWNGHmrvn9y6LMWxPKEbYpbFBYCPMkyoHuyTTxo8ueWiGuaPPxNd3nvSdqc155aImVec6On4gW2nxiLUS/TRMfhXh9VEjPmb19arOfaqBn5ZH5F+2ZbVVVyp5ME+7K3zW+E9daDhR+t/n7mjfv31kMywZftfyA81tHRa+/MyKcXDkmFPO2zI9P8eJB4cZqmjiA7/HWiDHjsC3KVn7DxvFGnQa5XixmXCkNm73n1gQpV6U69P5fDrRVd700pgn2BIuCuNNlkcVqmsgjwlxiqjN3MrQcMun++uuvlJmDvdrFnkwTqxcEh5uRTItMVBw44uRAsaCGI0Rw+6CLJu3atRNVMbThxB9jNBcFcKkYCgW3+nsVxSyF8CxZsmCCiDR0wzYnldQqHIPDemkrow9OIPPazShYu+ZWMSS4pYeWwjYN/b4Ux8n3338vEpjgZdnYPEhiZfImhMNWeHDV0n0O46iwte4MF8y+j68wO4BPeposw2EuGzVYpuzcubNc4gxD1XTp0pm7puCfadJkSlV++nE/GDkUZm2fIrPXsb+DEQ5vJJy8fKzltNoiAdeIoVsLO05thqHn/DZWotfywGW9qfXqiHwYHMJsYiRJ2HFbnURiplu/XSbIdGuaEMYrHRywpPude0F25M07N6TXWEvH/j7kVhkHoifTxI8uO7Qit/CK4TVBf0w6w8xYE5I8avXXQvHPNAmuEIdHhVDZ3r+9LzHaAjWPpdFWCg6mCavw/KXg/LZVcb60mSbCzOo5osQ0EYrX35kSJUpQhZUg0xxhlFDCkWkSQLEmx08ERcM9n9QeoDB+9HfXrl1PED/+hk1bpv78619r18F2795dztYjYcIEx06cOHfugpXoXMaDbZKH8bEbZnzvEo5kDT1hoR33AHMwAQQ4BiSUlZACh4gKI9BtgXUQQ8fEwWVCbAoU3Oa8DRO6Ia+wwkPrFGQ5wNSSAo4ciUdBN2YU1omgYxwYNlFV1qRsRJv+XkXh22dyYgmTdGjZWYgnHvOOrDkjmYJzyBXGE74iFp4w8oh9IeiEKkZhT8C6pYeWwkb5kxeuDpnxl7n0VOhQs2jCuDFd74ohYkY2atSobMFE5M358+eFWXbzwzQxrixcd1iN+MNM4phNrDNcMPs+vjA7S8Mzh41LmgCjjGK4f3BusXg3Z84c0UrMenF02fT07/LfzUsehnCJkFt3b1CIGjmaj4GHtqbZJ2PQGxNwVOw+u33HqY0VslazMZAdSpQGwjuU6m275XzJ6gYMCWMnSZcws3Cyndq4temP/H1w5aGgx9h2LD/4+5ojf3qKq7AxB+tSNKFKnhQFZXs6dmeplbdhn4UfEBhBpE71XPWDJdATc3C77EmOlV4jdwO2KsFrdfrqCeQT64Nzq/+iD9km7u0X37NyBqvshxCHRyVV/HTdy31FSPVvu2fwtOBEWbx3TpXstX1UKWnSpPyx8KvuI78DmzUqVticf2eOHDnCnzl/vPLSIlWYUByaCMBbkQJHp3Png6wKWcm2ahU7VqyDhw4TX9KlR+88uXIUzJ/PeteUsV0oX7l61VCCVWCiNUYGQUZEezC0VmW45GURmWx/yZnLYMl3ZmYOgwFXBGfSLzkT8USMpO0gWsWtHFws7PmTJk0a3s47depk43GrqlsiFZ1F4aUktgs29j3EHsdGIdxBYhFsjTpcxo0bl9kOTxVhOrxqi4Fv+D0p5okeugpfunbz15W7vf67dSdopFwPnKg2ovURst2SS8w4CUzBJHXL4AwXVdwi45YIs1dpBMGwoIM5RfgL/JieFSpUkCefSwl5NkFLUEJ4JIkTZKCzk6lVzrXb17hMEz99pIh2PK1sDmVm67cKBIXInLriBtUvl/Zgj41PKg5xSH5xKzxG1CB7NHa0uNa7OZIFvdSy9cWlmxet9APn93y2uAuGETOxlR4qZdEEUVZlRBOIx/8+HCqtICRYXfa9UXaXyZQoG/ynrhzn/NeRP4h63nN2e/2J5euOLy3/RNr7M97mkj3QvAr3T4jzo0IUMyPYuFA7Wt92agPb+3pVQxh49aLAW66P/A5srr8qrhTr7wx/vEhjcdlKdJAfmLcCyGsSP95zYHTh4t82pH6eMbtX3/7lyrzSr9dHvHT+uWKVjUEuxeXg6nRxy+xKNEEA3GLSlTOzBfO9YZa3YZYzDOVxFOQlmBgRzCPrI8jqAIcsYVrbZWWEeBccJ6xuEHHCGpD1brDKvohq06YNkSUEf7DChW2OhWHixn1si0gaIrxq1KjBEgZ+IBZWfazoyhbqCmdJmWjlwMauDVkpkSJGiBsrupUSwrI8V2b6t0kLRbiQ7FUa7hysE7wmWJ/sk40bGQ+ZUQn3HmVgN5QQFlLHTx8k8Op/Xi5JNIWYNmGmkAhPmyCoenoXIYRikHD76avDjefD91YyJMy6OMIcyXY2tbInyzNv13SsqJhR/w0z59bFG+c/mtcyd/IX25cMnmPGiHUukCMdI0pMMp/ZSs5wkqfDv7PXTsvOYIYekoLvXQ5uK2kSZtx/freMMpuISHWUt8lhw7qbd6+zk56N7nrptxBPj4ppokTG8kNW9OMyUkTvakgtQscohKJ/0SjjtYD7HB4UIGmD1wyv/IHJ4CvQYaB94gchlsSUWNs6febsR737xowR89OPe0SLFuRakMM1u/PM2XPcSpkiFFKkyL+VVgiHJnPn3yYf7HNPmZhZQ3kcBTF98M2wOkN+kGmCL5XgJMTfbihSIJKXgFn2EMQuMbfEujKXPhZ8EcXkhGGBdcJyGPk4Enzgo3zYqEJwMRY9MRayuiF1A0ThSJEixosdmmaHW2QwOq10cUVYVw/N3dCFy0dpPGOE8bKmyebFPHJkQhp9JCiK+CpDCWGhbObXJqwfxkSOG0PMFAQevhDkOGR/2JAIP37pENX5UI5VyMztP45bNwRHfd6UhQydzUjcJrIaBlPImDgr5cs3/+ZbMOazONcf+HiSx00VLfK/Tw7ZHJ1mNWbNokf5r00mKkQWkkwtI9O/QsSIkdInzIyn4cD53UYC8Rmy6246F4PM8AS34GOXgysWflw77AET54ELCifKrMZrrEL4QXh9TGEog6pNIJkcO8x6123ZbyFuHxVrE8/FSIDpmfy51NGj+PrjIE5QT+8bVuGhXmZ7CJHJqyNvrVb54pi3UgK27Ke/9HH0J3fO7Ii9+F+vyd59QasnAHrr9i0KZMqICUJoAhusWX/ihZ4qZQqvurFLivCIo8WVnwgM3hehS9KNMGCEknSOFSw5tNI0aQuu1W0UWawhmAA6u4NwlrgKE10BRSZm+S4DnkAJhuLldcqUKdylLVZ2SPewPWfc4sCBwVmMdAqyHiSipFERblPVrf5eRQW1FyFC+/btsSroC14c2f1C6HImpJydBz39DUgT9J2hhJ8hkL9hFCbChlpuFYPTLT1UFLYqH8KyPFrWvltH1ghnh0dTJvKUZTgsAAkngs4HnnBUyHh5hQv+4I6vA/iiFcpgPlImrKpp06bWyKHChYNmC8mNFGYfz8QBwMncaeNnRZ/v+UFkQ3e5xXdP9p3fxVRUIdsbQsF0IyZJvntlq24ut53cwNfazCXuBDaMz/F8XqYrQ2SXz2/+7NPm5e4FUxdjCr96+wpf+/t+zeDu81vJLm1eG8qXsrAsQ0zZNMaIJbCD8us56wqFz8K1+7U+g9K93JcMDppgeG0+sab9jLfZPVZ4yNcjftz6nBhprgXZr/2eC3Q18zSEefG+ucbTwAcFL9+6lChWkuLpy4kc3xvyNEC+dNkrblduXWKLeuw50zs+DLT77LamRT4QCgYcUUf/+RctttziSTB2iXNDPgrx5VFBYaMqhSX75vDoslG9lehclp81sz2EjwMhU5L8Nhr5rvOF8+8MQbISnMBXI4wo83trxAZ6gT+hADnYqoTMYbJsTp46bVQiADZ/0VIQ6zVuzneGK1StKTz/a9C4cvX/XboUtMsIx+XLV+CBk4JQHM7k0MqofP75557Y2MZDXGGEbvBkMC/yKsliCq+SUmXo0KEIYTHPlpziKpAMIDiJfOQTBvzQMwfz0w+F7VKEmQmegAkosusJROJDzVIO+bqiiadgb4mWJYaANAq8LBIqS6gBGe04NhAuTkVypK26udXfWZS1Oh1BYYwnK5Eyrn4J0bLmH1l5CICVSAWcT/KhTvGdMOfhNmDOdqsYEtzSQ66wVbcQloFa+oKqIsqMrBlrSXFicMlOFx6JDRo9erRc8qRJwBq7SULxClewxterNNGBM98QxqRmbZFfWEOkgAUsfXTNY3fO0CHzgjQHdh933QKEJQnyYMn4Jb2CxJM2P78J54xtk0y7sn8gymzbts0QrQVkyp4Z7GXCxvDku5LVwj701n1N2Cde8ixcz8NXDRBpXhuCjdyciiPylh+Wa+uJ9Vwyz5ERg85kxnJJtnODSZVcm4ACm/SdWYq/HY66detKuw5nqpC3QvWxa/79ubAy9/u9E7fIMyI9hzydXvPbkPny54GFwhOshhwGyLnLtOUVt6HL+6MnHfliyUe/7f6VLeTJWhq3doi1L7ay2wwdrw15FeLLo8KG+mhLulPQR6ovHvxl60SSh8nWcd1lx1OGjiyp8EMns4OPA8Gvn6zX9+7d23SE2UcWfNmYSoi+/M7w8yvPGNkPLPTjomaCgMK8wERG5oGRH7CFoFeuwDk+6T8AC2P6r0FbXJhj7A8TXypZHnqxMpXmL1w0YfJPlIuXqUTCjuFhOxOIhKQYitsCYZvyAyrDxutgsWLFWLVxy4xXQNZWcGPwXUA8GWzSJ5zGAkAOny/2tKOJMJPjwAPHM8GCCx42s703Dy7WA1/SMRSeHrYbkVo8zSbRg1batm2LpexWT94mJWedJtgXi5hwKlImyJSmyRCRzjIdwoZVjhBP+juI4i/E2jrv04jlnd5KpExOrOztIXu+2e7KJe4f2X0Z0553R9ldFHMNg8yTYp7oIVfYrYZ+ELFZTVgS48isw9+/2R2YB4BVMMSKacITxQSPNYYHDlMSl4BpEdNE/LG88QjRAS4QC9b4ItBBmtFBCiSvEQ9kI3KJPcrQG1vKMHgyTdiKnjBGs90W89NXS3uYWlLYeXpL06lvMB/w740xRdiawspgksswta10a1k2KREJpKQO/rMv6yyGAaNHbrk9syYinL40BCe7cdT6vgSiaIjusG/9zTv/7nMjtoLbVrAbpBV2YpQ/SYYeU88o6VogMVjsEgQCIDAaVYWZrczYbI27fLgH845MV+s2LT425MsAOXQZTbzituPUJjQUWNgZD6+SVU/XjkNxa5p4bcgmyq0Q50cFCXwCyYwgsNebUM5TCron04RdHhhi+ZNHoC8DMWjQIPMDQl1+qwnFwwNttlxjviC6wMffGRrld9Wk9vDqy6spYllgYgker6cNqAC8DCzT5Oq1a6Vfrdbmg383UTB44Yzaf+Agzn6hHDl2zDZT4lNhK9g9+/abKqFV4O2QBwtnQEgEor/t7dMXafQR84jtVr1unYI01nHMh6B4OSaqwJcm3PL4IoqEIP543FanabONh1sGiFhIhJHj0BYGAmtwJnli9koPocJe5Ycig5gmZKrjmsYmZmck2crM2gRvWpiwBhxuhS5cvkjjxwvj6ffff7cqJmVi6/gNxQi23fJkmtjYHC7ZQRwbxUzzhhN7l78CvsXKrjCG6FrgBXfT8b+Cu0ubVY6PDVGFiEusBDZHEWeJVYgvZZyyzF6YsPKq4EsVBx5cTVtOrGMPMVeeUGzIocu+4EbyLQbKkYsHZBcWV1V9ofjSkC9yvD4qpy4fxx+26/RWq4HrKtmTaYJLmFdB65tbKA6EqxqeKBi+vEPSNL+u7F9ANqX1V8VTrQChB5ZpAijLlq/EyNi6bYfvAPGZYlwmw0aN9b2KcoYEARwzrDHxte6QCAnLuoGjsDFNwrL7frTFOxYuQ1w4buvy9R9+ec1uxcITctPEbVtCxFTirZFlJgeeULkVZg2xYGc2mw4VzT0JCZuGwgy3MGvIE55WulvThJ0R8E+4mtFhMxBW9cJ1OeBME9Bk/5I36tRnhxJfkL185Uq9Rs3aduziC7PyhAQB1mjY557Vq3LlyvFaEPgGeAAqzIIxP1tkvoRkIB5TXRx7fMiJ8B0iY3CZ4Cx0aIglNvbaZ9sGw/P4TBNcJjiiSR8zbT2mQtg0hNsJVz9rxHj7HlNHRGyYNRQ2uNGpMGvIx3FxNU3w6+BOtq2EhtlA+Kh2uGALRNOEOW/IsJE132p4xtsyyrlz59nG/qOP+9q+9hcuoA93SsqeFsysuEzY6DDw9Q80hXFCyKbDhNATyxZoAGKRMLhysHuNs3qsNhINQwCWWakU04TPkpG0xcFalbME3+9iMHldIvRdmgNn2DREtt1XX31FZpaDJqFyK8waChvcwCTMGnLGn8Voecglq45NV4Uf7yxlnGG2EKIwGwhntcPX3Yio+/DnKLD+37x128ZNWxrWD/oyu6dj9LgJ2bNlLVI4KPlQj8eNAFHffI4OfwmBkGbrl8fdaEjkB5TChODwc2Z2rCdYmIhUwAxJB0O3LuEveMWIWOJz16hqYugcWsH+IBSXwCN4yAKgj4aZxDQTomuIWlAEngIESKcw3zWjO6Qd8IdDgZRPvndDUNRT0Mcn3oXANU2eODSqgCKgCCgCioAioAiEPQIBtOVa2HdeW1QEFAFFQBFQBBSBQENATZNAGxHVRxFQBBQBRUAReKYRUNPkmR5+7bwioAgoAoqAIhBoCKhpEmgjovooAoqAIqAIKALPNAJqmjzTw6+dVwQUAUVAEVAEAg0BNU0CbURUH0VAEVAEFAFF4JlGQE0Tf4afT9uwsYfksvtTP7Tr8Bk/NnH66KOP+FggGzkjng1IQruRYMtj6zw+elmhQoVXXnkl2JW1giKgCCgCisCzioDua+LPyA8bNqxFixZsisq2xHzj1x8RoVSHL/mxwSgWCV/x5TO2f/31F1tmYTaxBzb7jYZSI36KwSLZsGEDmzS/+OKLfG/FTylaTRFQBBQBReAZyXlDLwAAQABJREFUQ0C9Jv4MONYAn5aePn36k7VLUL1ly5bYJd26dWO/cD66xheS+YDczp072RPdn4651Pnpp5/YldmF7BOBD11+9tlnPrEqkyKgCCgCioAi8BAB9Zo8RCIc/o9Dgs/E8CU2thiPEyeO6UHvBwdfOTEU/wpIyJo1Ky4ivufnnwTMpqpVq6rXxD/0tJYioAgoAs8mAuo1CcfjzqoN8Rw3btzgs1LWbvANlFBx57z//vsHDhywSg5uOXLkyMGtovyKgCKgCCgCzzgCUZ7x/vvXfUJMxo8ff/ToUb7n5J+EUKmVPXt2vsFGTAmhpjNmzMiZM6eITZEiBRRbE3x67bffflu1alWyZMn4SGylSpWM+UJ3fvjhB1wvPXr0mDBhwrp164jwhSKxtHw2E9MH4fny5ROZfNGNr5Pv3bs3ffr0NWvW5GOb1rb49hVLS+vXr6eh5MmTW2+5LWNaLV68eP78+ZhZKFalShXzxWBXxVq3bk2vV65ciXp8ZTBSpEjDhw/PnDkzdIRL0+hPtA2RLkWLFoVIzPLmzZtN03x/iw//cgkadJlC6tSpS5UqZRi0oAgoAoqAIvCEEQhfH0oOBG2bNm0aK1Yshi1XrlxPXJ+3335bHiBslA8//JCoWLcqTZs2jVkcZj58X6RIEaqwzsJ6EMyNGjWKGTMmFJZdGjRoINKIqMXmiBcvHpd8HZfy4MGDYSaEBVcKX83FMcOBzChRovCBX9Mo8TdIq1at2pgxY7B+RBqSDYOtgJERI0YMmsMMKl++PPwYQPJJcbeKFSpUyFhg/fv3l4GgFp/ApUfoQ5oSR+LEiTG8MLNoDksF+aJJ9erVd+3aJTpgXfHJUPo4efJkm1Z6qQgoAoqAIvAEEYjwBNsOp01v3769U6dOTHWBYJrcvHmzdOnSMu9yxl8yduxY3A9WbP/44w/iURo3bixEqmArwMxcDmXr1q0ffPCBSMBjQXUEjhgxglviDsG7YKRhcMBJuo1Q+vTpwyX2AQ4kKNgHGAcVK1aUu3fu3ClevDgMDqYJGMJA8jNVCG1JmTIll7NmzeLSrWIE+W7atElsJjgnTZqEg4cWcaJwWaZMGWn6u+++47JAgQJySXRwokSJoBCWKxTOeJsSJEjw5ZdfGooWFAFFQBFQBAIBATVN/BkFojuZ5wLBNEF7ZvR+/fqJ5wOtOAoXLszShukYMzTEtWvXGgpz/wPGCCzNQGT3ES5ZRjlz5ozhoeBqmrBAw8FijRxTp04VOVgG8JcoUYJL1oyMEEJooTiYJjSB3wXTQaqImSXSoDgrhnfENCSc7dq1E8qyZctoN0OGDIYBmwZKlixZjN2G8oB28eJFw6MFRUARUAQUgUBAIBK/13oEFwFWT4Jb5fHxE2rapUsX1ilq164trbC7SdmyZSWQ4tKlSxs3boSeLVs2o0PlypVxGHC5dOlSzhgHnDNmzMjmKBQ8HeQnnzx5EmZCUuQYN24cojiY448cOYJBwDKKNfSEMA5P0oROlcOHD7P+gpHEchJBJ9BNbpEnxYQuK1MiBw8QsS8DBgzA1GDRSlamjBx4mjdvju2FxUY6tFTBbKpTp078+PHlUs+KgCKgCCgCAYKAmib+DATLFv5UC+062La3bt0SqWnSpJkyZQprN6T7QsFQ6Ny5M4Xly5cTIILFQEiHaZ/LdOnScbl//37OXJpbDgUSgrhLtAeBsbaDYBTZ/oQwFGtDDtLkVty4cTGqiC/BmCAGVvwuppYnxdzSced06NABHPAPyYqbkUOB5GoJle3bty+4YaOw7Qr2ipVHy4qAIqAIKAKBgEBATLGBAER41IGNX19//XWr5kzt2CIsW0Bk6uXMNCxnfB5WTiJAuRROK92hLL4KQj1s+7kRtEHgKu4K6lIgutZBiO0WwSskE2FObdu2je3j2GDXxuDjJUtCLAaxEsTKDslT2E+uFdu0aYOBQggL61kE02APuWVzragURUARUAQUgbBEQE2TsEQ79NtiHQRrwCqXxZH27dtDEROBNFq5u2jRIiubWBJk31iJzmWxY3C0MPdbOXv16jVq1CgyeIUocR5WBsI7rJemTD4zwbmE6LIwZI2VEXPKsPlS6Nq1K8G5dJxIWMNvk8OCTrNmzbjbvXv377//Xl0mBigtKAKKgCIQUAioaeLPcEgQgzWU4dChQwQxsEWHP+JCUOfatWtMtDYB7OQBRRZHiCApWbIkl5J0I5xYM2xmTzqMZNWKF8RV+ahRo8JP9g1nZGL0SEQtG4qweASRiqzsEOFBag+bhUioSs+ePUkCkoakcP36dbm0nXFgQAFGwyauHVJ7CGrBoPGkmNgcVoVFlLHSZO0JOcgX/aVpbBcsIfqCp+fNN9+06aOXioAioAgoAgGBAL/yegQXATb5YPBYfSDUg7rMoBLv2bFjx+CKCgm/fGQYTdiwZPfu3YjCU8JmHnggSOglyVmEs7GHLJQQgYEdgLZksrC0QXisMAwdOhQhxIjY0lUkrjZ37tx8y5DdXGDGSWPibEjHFbHsdCJy2OBEnmkCVFlYwRdCKAkUQkNokRBXYTNndmGRjUlw3hACkilTJuwG+MkwImiX5Sq3imFVSI4x+7gYUYTlUpHmiLABDfHB0C47rGC6GTYKdAROrCsrUcuKgCKgCCgCgYOAJg8HeywIWZAZlxmOnUmJPGWyl+UMHAbBFheCCpgmOCoIICX2E2UoSwgqOTIk6VgF4yeQ5Rg8H2nTpsX5we6rwmAmciSwLYo4V+QW241gwTDBs0oi+7NBZ5sTiVOBn6Nt27Zin0kVjDaTvkRcKtYDPITc8jVEtBUe6xmPi+QKoTzZvGLzJU2aFBvIrWLQsWAetBwBI4l9U3DJIBCvleyhgrbsq8b2tShJGXCwxqwtSlISXhYrUcuKgCKgCCgCgYOAft5PprmQntlSndmuWLFixqkQUok+1Mck2rBhgyzKkOciqxj4G9jPw60ax44dI4+GndoxUHwQH8SC2YH3AiPDys9SC3JITs6TJ48s4ljvssaEnwabhrsYNFhFLC251UdqsS6DYUEkrPDw1R4sLQm5tYr1pUwcDAElYutIQC7Glq0i+8tht2F12eh6qQgoAoqAIhAgCKhpEiADoWqEBQKYU3iP2CtWA03CAm5tQxFQBBQBvxBQ08Qv2LRSuEJg4sSJrLuxKS2hyoTcsqbj4MUJVz1TZRUBRUAReAoRUNPkKRxU7ZINASJ2WZaCSNwuXyGW7eZsPHqpCCgCioAiECAIaPJwgAyEqvEYEeAbxeQZkZXDBwjVLnmMQKtoRUARUARCAwH1moQGiipDEVAEFAFFQBFQBEIJAfWahBKQKkYRUAQUAUVAEVAEQgMBNU1CA0WVoQgoAoqAIqAIKAKhhICaJqEEpIpRBBQBRUARUAQUgdBAQE2T0EBRZSgCioAioAgoAopAKCGgpkkoAaliFAFFQBFQBBQBRSA0EFDTJDRQVBmKgCKgCCgCioAiEEoIqGniHUi+58cXXtauXWtY+S7MCy+88O677xpK2Bf4kA3fgrEdBw8e9EMTRPGh4AoVKrzyyiumumuvza3AKbDNa506ddiqhG8BLlq0KHAU86TJkSNHunXrxkeC+EqiJx6lKwKKgCLwrCMQOF8aDFhN5EO7X375pdGQj7Dw3LC1KB/YM8QwLvBVvI8//phvCMsTzPfw3njjjWXLlvmhRqlSpegLctjK3VR37bW5FSCF7t27Z8yYceHChS1atEB5vjOM+RggurlVg23y+fKijNecOXPc8ihREVAEFAFFIIJC4BUBPrnSt2/fixcvGs4rV658+umnTIqG8qQKfPFYprr33nsvJDqIsWU1TVx7HRL5oV5XvA6DBw9GMgZi/fr1+SzO3LlzQ70hm0A+xczDYCP6fomDSj7jrKaJ76AppyKgCDxrCESRiU3PDgiUfHBYGeLEidO5c2cr5UmV48WLhzJXr15NlSpVSHRIkSKFrbprr20MT/aSz/WhgKiNv+SHH34YNGhQggQJHrdWLCFhVXTt2tW/hrCfkiVLdvLkSf+qay1FQBFQBJ4FBDTWJNyPcrRo0egDCzoh6UnkyJFDUj3s627cuJFGpe/SehjYJfv27evQoUMIOxvuoA5hf7W6IqAIKALBRSBE81lwGwun/KtWrRo3blyjRo0KFSokXWAZZfz48UePHv38888DsFPLly9HvZYtWxKK8fPPP7M0Q0hKw4YNY8eObdV2z549rICsX7+e93hZZbDede01d1nOIGCCkA4cFYS2FC9e3DrRXr58efLkyRs2bGCFpWDBgu+8807UqFFFJktgrBlt27aNhnLlyrV9+3ZWxKzN2crHjx9nyQYd0O2ll16qVKkSLQoP9NOnT+/cuZPL+fPnMxaxYsWqXr26TQKXzo06NEHdlStX4onhi4D4OYYPH545c+Z8+fI1aNCAdT1CWYGXjteqVUs66NBxRN29e3fGjBkrVqzg68fFihUDHFdVbRQZmnXr1hFtTWxy0aJFDYOrYq1btwYEtAWWHj16TJgwgYoQs2fPTi23oojj5gvMRmb+/Plz5MjBpWBLIXXq1EQgGQYtKAKKgCIQpgg8aytYweovUaV8sVbGY/r06VK3adOmzIUQmWKDJe0xMSdMmBBlBgwYgHyyVGSOgTJmzJicOXOK8pwbN25sVYDuxIwZs1q1arAx8QubxJq47TV1d+3aBRpMY19//XXVqlWpkjZtWmZlEYuJQ4xnnjx5yECRSZHypUuXuHvt2rVs2bJhx4waNYq0JtCD06qMrTxt2jQMApJuvvnmmyJFitAQzZmGunTp8vrrr7OSBR2rhXKzZs1sErw26tDEkiVLDG58sljGmrZoSJRJlChRzQcHpgANOXScuyBQrlw5PDqA9tlnn0m4MdIcYk3oLN3/6MGROHFibDKsDUR5Uuy1115jKJHJ8GE8UeCoWLEiVTyJwnbBdhROrDpGFmYOwqcIfwZbTEyh6FkRUAQUgbBHQMNgnTA/c+YML5cyCxrThDf+Tp068bMegKYJkyUrHeIdYUobOHAgYQ1YLTIJnT17Vnq7evVqJj+ZvaDcuXMHuwEeMU3c9hp/CW/wpOmSGUSV69evywKKxIRyF7/Cq6++KvKRIG4YMpChjB49GuFMh3KXSwfThCCS6NGjG0Pq5s2baEV1ZlmpLmdJTZo3b56VaC07NOrcBIht2rRJBp12J02ahDkFVvhLSLGGgg/DNOTccdjAhCq4OqQKCnPJ4ck04THjbpkyZYRfwpPpLJeeFEP4Bx988EBqhCpVqowdO7Z06dIjRoxwEIU0HgZsLGphMElbnG/fvs2wWpPRzC0tKAKKgCIQZgioaeIdavwE/IIb04QKM2fOhBKApol0Rhwn33//vVwy30hMhsmtLVGiBPqzXGI6P2zYMChimgjR1muCTGHA1jFVMEqSJk2K0wWKVO/Xrx8uBDmYXOEXE6R3796U8YKIWYM+rGsYObaC2BxGVe7OmjWL6hysiRhmr6aJQ6O+NJE3b15axHNhWqTgapo4d3zx4sUIYcMYI4TVHOcMHWmiXbt2UgUPFhKslpyDYvjPMApNW15FffHFFwjPkiULeUNSa+rUqThgrMloRpoWFAFFQBEIMwQ0DJYfZy+HNdZSWF0pXkSE7W1RTzYmoWXiITJlykTh/PnznAmVYMLDpyKTnKhGbIEUzNnWR8wCbpmVDspkqeCkIaCEMuYIZ5YDiHWQI0aMGJUrV2ZNB3rZsmU5E69DuAYrKURpEP4CxfVg+UPiW1kAMneRIx4aT7UMp7XgqVEfm5CwYlnBsYq1lZ07TkgK/PTa1AJ251wqnEN79+7F0YV9wHqWLNAQrWIkuFVMiIQWJUmSxHB6FdW8eXOsGYJRiB+SWlhabGEXP358I0QLioAioAiEPQJqmnjHnLUPG5MrxcbwZC9d1cNQMCrt2LGDMos+VqK5awo2IYQjcAuHh2GwFkhd4RLPyuz/HgThQicihJUdCgghdJSpmkUxa3VTJoAXvwLzt1U3LllIgmf//v2G02vBU6M+NkGjXpuAwbnjAjXxIr6IMjy4VcgDYsdYXEeydGhuUXCrmFsizM6iSDsnWhY2WZXDRiGcBXvF2pyWFQFFQBEIewTsk27Ya6AthjECvI7TIluhEFjqe9MSDUpmh62KmAvy1k5uju0uOSlQmDixWvC7YC5wiRCCIWRSt/HjLYTC+cSJE9Zb4gFi6cFKdC57ajQUm0AB544L1KQCOatqvUsICOCQbsNyDE4XkxRm5fGx7IsoTEYMlK1bt7JqRngKVmNIWvRRMWVTBBQBRcAZATVNnPF5Cu8Sryq9kjgGaw+JObBeWstSizRaK8+pU6fIqYZNjAZevq1LD9yV4BXSPbBLiB4luoXpFocNJgvhpVb5UibSVgq2D+LIHP/yyy+7VvFE8dRoKDZB084dF9BccaaiFUZrF1gmW7NmTfv27SVYR26JOWVl86XsiygWdMhvQhq7/hOcpC4TX4BVHkVAEXjcCKhp4h1hmW6tk64r5dChQyzYE+bpXVxoc5AkgkhSZoxgoVgnP5nbyMSBhyBZiUjo2bMn+S9SSwpWIbY+SqYJnw8kd0Z25mC1onbt2qSEIIEEFs4ESXApES2EoTRp0oRwV7wXeFbM9qn16tVjsxCYMVykaeuZaAl2oYXCG7yZj3HwsItJypQpTb4rDKKq0d8qRMqeGvWxCWndNqCyiwn72dAE+uOWcO64bA1CPIoJ5qCiK9RW5XFgcEmXhSi+JRk4adetYjIiNm29ipImMINIicKVxWrdm2++aVVGy4qAIqAIPBkE+KXTwwEBZmhZTWCLC8PGp1sYLfaowAiAyMQgYaQdO3Y0PGFTkBAQlPnf//4nLTLBMNNAGTp0qKFIVghhlUIZOXKkPG2EebJwQIBq3LhxoWBGkBtCXolrr+mjiQkleILsJPjZv4RJVGSShyIyiXLFjCBUBXwIueVunz59uIW1wRTLJXMh6yCEm0hF25kcY9n8gzAL1KBdVGLRgfBYw4nTBQoyScMxRFvBoVGvTYAhXUD+hx9+aBUrsSPQUYkMJuwG7jp0HCsESwh+bBr0YUMz0pS45KA6jgqrcCkTRMxdhoMvIcAsG5YwLuxAA78nxRhrahGgg3vJyHQWZdgosFUP1TEZrUQtKwKKgCLwpBDQ5GEn5NnUxGy5RrAF2ShwszwvEzm/5szNbJLB9Cmue/wQTuJC9R6vyOXLl5dYBzThQFUUIHxSLlGybt262BmyARpEpnOzOxnWlcnBwXBhDoaBaFM2aaVHrr1Gd6Y9dvcS4ZzJQMaJYvqEjcI39sxdRP31119yl1lZ2uKTN3g+mG4JPTEVXQu8wctCCTYQu7qR68uur4aNuqaPNMeOLOzkYe6agnOjDk2w9iQJTQjHwEI+HhoRiyOqRo0a0HE7EQ4iRIeOw4BxVrhwYQMLPiesOkaNjc5YtDLamgLuN9ljBnMEHnwzWMaUSdX5888/3SpmLBhaAWFxOCHQQRQ2n2mRgqQ+4WWxErWsCCgCisCTQiAiDZvfTS34jQA7hfPLzvqFLbHFb4FhUJFNWvEfYK+Q4ktILLM11oZX/QlQpafp06fHGmPKtOnJag7uDWZulo2M2QQRw44JHh8Pfiaak82+bHVtl8eOHcNLgXchuBkuIseXRv1rgrBWNnSRxR2js9uOm7v4Vw4cOEDHsTPYIQ17S7wyhsFWYDWKKBBJmcb0YXRcv79oq+Lp0hdR7NiGHYnp40mI0hUBRUARCEsE1DQJS7S1LUUg4BAgKggfFdvOaqBJwI2NKqQIPKsIqGnyrI689vvZRmDixIms3JFCRYguMTGs6Xh1mD3bgGnvFQFFIOwQUNMk7LDWlhSBwEGANTXZdYagY2KqiA0KHN1UE0VAEXjGEdDk4Wf8AdDuP6MIkHFGsDNZOXzrUe2SZ/Qh0G4rAoGKgHpNAnVkVC9FQBFQBBQBReCZREC9Js/ksGunFQFFQBFQBBSBQEVATZNAHRnVSxFQBBQBRUAReCYRUNPkmRx27bQioAgoAoqAIhCoCKhpEqgjo3opAoqAIqAIKALPJAJqmjyTw66dVgQUAUVAEVAEAhUBNU0CdWRUL0VAEVAEFAFF4JlEQE0T+7Dz9b6sWbOuXbvW3HCl8LmZF1544d133zU8AVLg27Zdu3aVrbSeuEp8DG/mzJmVKlV65ZVXjDJHjx7lC7p8RAZVDfFJFQJKmScFgrarCCgCikCgIRAl0BR64vpMnTqVr4rwqTP28BZlXCl8oY0v1fGhO77y6vqJuyfVBT5yW7t27UuXLjVp0oSPwz0pNUy7GCV8NI5P0+XNm1eIs2bNatu2Ld8r5pIvJxvOJ1IIKGWeCALaqCKgCCgCgYmAek3s4zJlypS+ffs2atTI3HCl1KtX79NPP50+fXrg2CX3799v0KABdolR+4kX8It8+eWXVjVee+01PoSbKlUqKzEk5du3b/fr188/CaGujH9q+FIrJN30Rb7yKAKKgCIQUAioaWIfjpIlS7ImEj9+fHPDlRInTpzOnTuXLVvW8DzxAkbAjh07nrgaNgWSJUtmo2DMPf/88zai35d8o27OnDl+Vw9dZfxWw2vFEHbTq3xlUAQUAUUgoBBQ0ySghsNPZfg8GwEcY8aMiRs3rp8iHk+1KFHcrBi6JfrR/r59+zp06OBHRWuV0FLGKjN0y6HSzdBVSaUpAoqAIvBYEXAzczzW9gJf+KpVq8aNG8eCTqFChURbV8rff/89fvx4gig///zzJ94jvmj/1ltvvfPOO1WqVPFFmT/++OPnn3++cuVKzpw54Sek5uWXX6ZAUMiECRNYcMEBs3XrVjp49erVN954o1y5ctwl8vfXX38lnKVChQq1atWyNrRnz565c+euW7eO0GAiXosWLWq962N5xYoVCxcu3Lt3b/r06WvWrGnCU6juVuHly5ezgHXx4kVUQtXIkSOjVdSoUd025yA8WPx+Q0QrnnSgCzxv586d69Onz8aNGwlsYkDr1KlTuHBhannqJsP33Xffbdu2LXny5Lly5dq+fTsrjG77okRFQBFQBMIfAv/o8RCBZcuW8S1WGULiSCC7UiA2bdo0VqxYsDElPKz6JP9v164dKUXXrl1DCfGaYF54Umj06NHRo0fv1avX119/nT9/fnrxww8/wPzee+/Fjh2bS8yLIUOG4EswYTTTpk0bOnSo1bswcuRII79q1aqRIkX66MGROHFiamHfmLvz5s1DJnaGoVCQSRdDR4hEybz//vu0TvQuB9JoyzThSeHGjRsXKVIE4YkSJcKU4SB42dqKL8KDpYzfEDl0sGHDhjFixKAXYDJo0CCDOQ/Y7t27Uc9tNxnrbNmyFS9efNSoUaSJwZwhQwbXvitFEVAEFIFwikCEcKr341D7zJkzrIzEixePqUJME1cK7fKG2qlTJ3gCwTTB04CpsX79egHEq2mSOnVqnCvCTI5MlixZxDQhTqVbt250iqNYsWI7d+48fvy4uGEIrGEi5PUdNCQ6OE2aNCIBlOAvU6aMXPIez2WBAgXkkrMvpgnrUNRas2aN1MJ5wCXTLU4pKJ4U5hbGDZw4aaSi27OzcKrY7CQHfv8gogkHmbg9sCzphXSElHWeLvEYtWrVSnrk2k3MNfhxUwkDl2qaCBR6VgQUgacDAY01eTAtPDglSZIEr0nGjBkNyZXCrezZs/PCanieYIG1AF67cYGI/8OrJmw0gmsBI4PkZ5h5X8cDFC1aNMo4S2RZhx1HlixZgi2SIkWK5s2bc+vWrVvYDdgroCGxHVgtd+/e5RbLKJwx0Thz5MiRgzNaPbjy9YRJxKoEojY8OLCWqHn9+nXUcFDYR+kOwt1KcOD3DyJacZAJYgALD34v+luwYEGeLhbRoBw6dIiz2wP8oQ8ePJilHwr169cHQLecSlQEFAFFIDwioLEm9lGTqdpK9YVi5Q+zMqZDpkyZxIXjS6NM/6VKlSKnFyukRYsWJBmxkmIWEfC+IAR3hYnYYJqEQi0TXSt2GxYDWcqspLCaI9EhmCMEfLBIBL9YLb7oAw97w5w8eRLXSI8ePUyVypUrU44ZM6azwobfU8FZuGstr/x+QORVpjxdZISZxwwbCN3Onz/vqqFQSA0DLiJU2Dbmk08+qV69+tKlSz0xK10RUAQUgXCHgJom9iEj1sFG8oViqxIGl3g+CJlkjxCrC4foSJquVq0aqzA//fRTypQpbZp88cUXbBZH6Oi3335LPAdeEDZxER7XblrjS4QHW8EmkPd1hLCmQKMYSS1btrQxOF+SfgIDEcdEtLjldFDYLb+V6FW4lZmyV34/IPJDpkSf2HSzXr700kvsUPzNN98wlAT/4upjVS5PnjxWHi0rAoqAIhB+EbBPw+G3J8+a5mKFHDt2jAQicwgI5NdAwbfhignTGNEMZBoTdspGXqR1mFgHV2avlLNnz5YuXZp5kXgIvCYmp8lrRcMg1s+mTZuIFTVECuhGfhCFkCjsVbi1RcrB5bdVd3v5OGTi6CJmlpQfbBQaJXmKURAbyK0OSlQEFAFFIHwhoKZJ+BqvR9ri1SeX1XbgLIGDuQrDhWDVR9wPS61bt4and+/eLMRUrFgRMr4TCVl4yBKM/9mbjjCU9u3bEwlrqhGEZcpeCxJZQkoRlo2VmQAa0k+ghERhr8KtLVIOLr+tutvLxyFz8uTJ2CXE/2KAghtWJl9NmjRpklsFlKgIKAKKQLhDQE0T+5BJqIQ1YMIXCkGLLKCE5XdhJASEKBDrIYEjzFVio9j7FiHCsGHDCLeEzkIMe4yydoDOsr39nTt3oFs7Lp4Mq/fFmB3ChnuGKuLeoCAv7iKH/BojzSrTRiTfmIweiCSk8EEACjQ6e/bsAQMGSH6Qg8ISEyMNnTp1ChcO1a2HV+EwWwfXK78fEHmVSZQxariCLG1xy7WbWHIYhdJTvpkAdJRBQCh6VgQUAUUgvCOgpsl/RpAZ4vDhw5DkE3QUXCkQmRs4kyjBugMFJuwSJUrwab2ePXtyGeAH0a/SR7qG5nXr1pWd4w8cOIDmBKWaSVFmfS7J65FOSW4IZckfYfs1yux60qVLF3KF2PaNS5jJMcEZQ1lgZNVJgIJCoyJWmoNCzAQxHOzVwT5jTOQJEiTg6zZsIkKEL3c5PCnM5mzcRRrBvETO4kB6wP6fk7Pw4CrjB0Ro46wD62vwACzKiOqCD/FAQnHbTXbcAWFjV7FsBGL/6bleKAKKgCIQfhFgctJDEGBTEyIbZChJVGGidaXASQQijgphI4eFvUp50c+cOTMUTJMnC6Yo5rDlGnMYb+GYAuSsYgSQrcqkiM4dO3Z87rnnpFNkiPzyyy8ffvghOThCIYOG4IaBAweab+IkTZqUXUwwUCQIF28NeSK8uGPlUGafVmZNomINUGQjz5gxg2nYRGuSgEOCj8BF0pD1wzp8nRhfgtzypDB3mblr1KiBhmQ1y+4sUsV29iQ8uMr4B5Eo40kHooYlGIVekIO9YMECvCA4vQR2KBIzZOsmW79IOg8J3owgSDI6tl7rpSKgCCgC4ReBiKguv4N6DgkCbF3P6gbzvWsSR0jEhnpdHBiYF9gu+DOY2Jj8ZA0oJA0hLWHChBg6CGFxB+8FkoMrEDuDPc3wuGC7YGqY6l4VxrTCTjIJz6aiteBJuJXHWg4uv7Wup3IIZVq7SV4xpjNbv5Chgw0HYsaI9NS60hUBRUARCEcIqGkSjgZLVVUEFAFFQBFQBJ5+BDTW5OkfY+2hIqAIKAKKgCIQjhBQ0yQcDZaqqggoAoqAIqAIPP0IqGny9I+x9lARUAQUAUVAEQhHCKhpEo4GS1VVBBQBRUARUASefgTUNHn6x1h7qAgoAoqAIqAIhCME1DQJR4OlqioCioAioAgoAk8/AmqaPP1jrD1UBBQBRUARUATCEQJqmoSjwVJVFQFFQBFQBBSBpx8BNU2e/jHWHioCioAioAgoAuEIATVNwtFgqaqKgCKgCCgCisDTj4CaJm7GmA/4Zc2ade3atW7uBSTpypUrf/334DMrbjXlq7bdu3dPmzYtH5xzy/AUEJ+FPj4Fw6RdUAQUAUXAEwJRPN14lulTp07lO3N//vnniy++GC5w+OSTT7744gurqitXrixSpIiVQnnWrFl81JcP+1G+ceOG7e7Tcfks9PHpGCnthSKgCCgCnhBQr4kbZKZMmdK3b99GjRq5uRd4pHPnzg0dOpRvzyZ+eJQvX97VLkHx1157ja8Ep0qVKvA68R+Nbt++3a9fv/+QfL4IL32kQyHpps94KKMioAgoAuEPATVN3IxZyZIlu3btGj9+fDf3Ao/01VdfZc+eHQPl7MNjwYIFntSMGDHi888/7+lugNAnTpw4Z84cv5UJF32kdyHspt/4aEVFQBFQBAIcATVNAnyAvKh34cKFIUOG4Cq4f/++F9aHt6NECehVvH379nXo0OGhsn7+H+B9pFeh0k0/0dFqioAioAgENgIBPUs9KehWrVo1btw4FnQKFSq0c+fOdevWGU2yZcsmASgzZ868dOkS9JQpU5YuXdowhHHh66+/Jga2R48e33zzDQYK61DJkyf3Q4c9e/bMnTuXnr7wwguvvPJK0aJFjRDCVn744YdWrVpFihRp+PDhmTNnbt26tdxds2YNsR1HjhwBqIoVK2bMmNHUksLly5cnT568YcMGLKeCBQu+8847UaNGlVuo/d13323btg2Fc+XKtX379k8//XT58uUNGjS4ePEiMsePHx85cuRatWqZKjbhK1asWLhw4d69e9OnT1+zZs28efPaGGyXDsoQQ8yI03SBAgXGjh3LA5AnT546deokS5bs1q1bxB4ReMRCGAzp0qUzYh0E0gUE4srq06fPxo0bkXDz5k0EFi5cmOqeuukWE9OcFhQBRUAReFYQ+EcPCwLLli3LnTu3jP306dO5s2PHjurVqwuFOXvTpk3CzooDc1WKFClmz55tERCmxTt37mAosH5hHlYiTn799VdnJWR2tLJVrVoVs+OjBwfxKgicMGECQpYsWZIzZ04R3r9//1ixYkl59erV3O3ZsyeczZo1w4bInz8/t2CIHTt2woQJMURgWL9+fYYMGZjju3XrxpITDJSx57h17do1jLzixYuPGjXq3XffpSKc0Bs3bixRMnQEa4ODeGTotgP577//Pm01eXCgPG6SkSNHGjbXPnpSBsPL2DSYd5QNnmh78uRJcxf9s2TJcvXqVWnFk0DuNmzYMEaMGPCjxqBBg4xAurl7924Y3HbTEyamU1pQBBQBReAZQSDCM9JPH7t55syZzZs3x4sXj3lFTBMq3rt3T2bodu3aGTnEMDIHT5s2zVCeVAFNeAvnjRydOfAx8JruoIxt2qab1CpTpoxUwZPBJc4DLpmYMcUEDYiTJk3CjMA7gksAqwUKxpnUAjQuOb799lvSkiHibMBsevXVV4UBYMWdQ2I2lNGjR8OMk0bucimmCZfYTNzCbSO33J7HjBkDDz4buYtngksmftKGhWLro4MyODa2bNmCJYQEDlbHMBEY1mjRonFJ34k6IhN7/vz5SZMmhULTNOEgkLu4gnhUgsQ96AhZ6PiExMTB+SQaunbTAROpomdFQBFQBJ4RBDTWRGaQf89JkiTBa2JbmOClXKIfmJuxA4T1559/TpAggXGo/EdK2F5gixQrVuzHH38cMWIEL+u4Ulq0aOG7CiyawMySilTJkSMHBYwPzixn4DlguYQyLpW6devSxLx58wgQZh0HIm4PzhyAJpYHfzblypWDwrIISy0wsJrDgdEgjhOcTNw9fvw458GDB7PMQaF+/frBWofCDQM/motwnBkIuX79uhhMlG2HgzIYJfQdK4oq9A7TAROnRo0a4jwDSdbIsEErVKhAcDQ8hw8f5uwgkLtgyIhQYHccVGIli76/8cYbUA4dOsTZ7RFCTNzKVKIioAgoAuERAY01cTNq8sZsvYFPomPHjrz6//TTT2+99Ra3hg0b1rx5c+OrtzI/qTIuDXwPZcuW5TWdbUtixozpiyas5ki4BuYISzMEr1Dr7t27pq6ElNqykYVh165dhi1fvnx4WYjuFArrHRSIBSEiRCiYTZUrVxZsUZL4GKIxCPJgUxYsvKVLlwqb1/OJEydoKHXq1EgwzEim7KnLzspQMXr06JyNf4gy5gVOHWuWlhisspedV4HSTaqbZ4kgHsR62gqPWyHBhOp6KAKKgCLw1CCgpombocRNYqMyrRLVQLwFDn9ME6Zk5lTc/ja2J37JukyJEiWImOHtXObC/7d3JnA3Vd0fN4YyU6bMQ4XMyvCiEDLPaTLVm6LprzIkU0iEVCJe02ssRaTSaBaZypTMkZBZZC7/72P17k7n3nvuudNz732s+/G59lln7bXX/u37nL3O2mvt7UYlPBC4hVhQaNq0abdu3Tp37myt5dX8wjVCZAbrOMSCkI2Ms0SChatVqyZ1xUYh0sL4Y6wyK1WqxMoOEkCSQFdcFETa4qGx8vgqi2QCb93j76wMDXmOuDiTrDpYKUEIlOgTq0BbORRMbKL0UhFQBBSBuEbAPgfHdWciqjy+fSYnIkBZRMBlwoRqAhQi2m6gwpnmeVPHfeKyIpuhkGGEZUD0A14Tpnw3FYk4IdgTi4SkG9YsMGhwKbVu3dqscImvBaxs0sh2hoK5g9WCQ4X5mEuiPdBB5nsbv+elSCYIxpYvzVobMaqe/FCclfFaxZkYdoE0FwomztrqXUVAEVAE4gsBNU3cjle+fPnIzoV76NChTOQ214JbKZHnIxiC4AZZoXDTGmGexJN27doVj4vhx+YwZa8F5ma8R4RlEBxK0i+LQeTHsouuYZb4DwI1rGtDhw4dIvUa4WQUY5cQ60qaLvYQuTaYLITymOoOBZHMtrZUtLL169ePfB8rxZSdlTFs7gthF0jToWDiXnPlVAQUAUUg9hFQ08TLGMlsap1ThenJJ5+kwARMZKjkgJjKLKAQhpLIB9OgIVaFtVHme3JJhgwZYhTzLNh6t2nTJniMv0FcF8TSQiR2lW8xU6ytQISNIBUsj8mTJ5OSg02AGwm6+eBWoUwUS8OGDSXAgqUfFsWID8U9gGGBSSTMDz30EMGnlDFc+JZdTKRpKDh1hM18k95MAhGX1BJjCPcJ0bXDhg2jLWGz9dFZGapIf60jLi4ZK0VwEIpfgaTwIJbcLtGHb6kuDXHp2U0HTIwQLSgCioAicE0gwBNTP1YEmHtkK3ciS6x0KUuaCTOx9RbTGFGZ/FwIlbXSI13GMqBR3Dlkz7InGCf8ZcyYcfjw4Q7t0jtJgsX3I2wSTJohQ4YePXq0a9dOIkmxHog74YxiVknYU45WunfvbhUr0bKscJFWzaIMO74QiIrlIVueCCdZLfInBBtCiOdAPfZS466k+5IRw1TNJT4b3DBk2FJmIxmpRf4t26VgA4k06zcWmIkOYVkNsVRhpxPh8ewjdAdlMCBk+Di4x7QiPiQinQ0FcGgFo0QoDgJh6N+/P8wE8aCM8BOlBIUUMKF4dtMBE6ODFhQBRUARuBYQ0H1N/jHKxHVK1iizCKsVBFL84/aVK+zbQdoFW19Y6Zgmkn3KLmRWeqTLhGiYFBK0xT7AQHFolLnfhJpiguD2gBl/j+QAY44QKYKjAsuMMjufIq1IkSJAwQdTADYSdEU+y0a+0n0xOIQHTwxZwVKdb/ZRJXZYbjENS+oKe9ax/IQyhJ7ILQwFcnfhZxZn4UyInt+4aqyHAXGiMo4K2Lz2EbovZYjDNZiAYePGjdn/F5VEbXpNWDE8OHuMMcQ6FNu2+hJIWyz2STAKQogC5kgjPEMsWolMKCxjeXbTARPP7itFEVAEFIEkjEBy+iZPTP12gwBGCRtq2VZzqHjy5ElWRqwTmBtpofOwLwgbrOE2IPpB1giCk8lqArt3sFML1Zl02YIdo8FBFFnB2C4LFy7EqiDQBJOFKpg1+AaYwsleNnVZzUFD7AzScc2EDRE7gFrM+pgUGAe2mGI2+cC749wjZnd8D6wTUR35pkWHgldlHPj93gpRoLWbfjHxq4wyKAKKgCKQNBBQ0yRpjGOi9gJrgHUcFjgI77A1zA73bBi/ZMkSG10vFQFFQBFQBBQBlwhoGKxLoJTtbwTYUIT93UnJIQj3b2qyZGybRsAKMR9WopYVAUVAEVAEFIGAEFCvSUBwKXMCAqz+sLUaW7JS5hgdPizikFPDateIESMkXFSRUgQUAUVAEVAEgkNATZPgcLvWaxEmwjbzJCoTRUsUMMcIE91JNq8tZORah0n7rwgoAoqAIhA4AmqaBI6Z1lAEFAFFQBFQBBSBiCGgsSYRg1YFKwKKgCKgCCgCikDgCKhpEjhmWkMRUAQUAUVAEVAEIoaAmiYRg1YFKwKKgCKgCCgCikDgCKhpEjhmWkMRUAQUAUVAEVAEIoaAmiYRg1YFKwKKgCKgCCgCikDgCKhpEjhmWkMRUAQUAUVAEVAEIoZAqohJDlXwR5989vP+/R3bPvTxZ5/Pmj23TKnbe3Xr6in01G+/9Rs0tHeP57Nmyex510bhnBcOb7MRbZdlypRJkyaNjRjeSw5/+eijj9555x0Oof3666/DK1ylKQKJj8DUqVPZiK9fv340zUmNnP5odOCsJf6mzOWVK38u3vXZrqM/PlrJy5+zYbMWDp85uGjnp7+ePlA6d8WqBWulSpHaetd9GQlzN0+vXqjubTlK+a11JdmVpbu+2PrrhnOXfs+XpXCNwnWz35DDby1PhkOn9y/Z9fnPJ3/Kki5r8ZxlK+e/y5PHRglL00ELCR3tFXu+3nhg7fnLZwtkLXpPscbp0yQcDO73E3q7Ye/ytm3bxo4dazTn+PTnnnvu+PHjHEjOOa8uz+0y1W0F/l4mT568YMECjrG7//77K1asiFiOUOWgDxun+0vOdUdh/hjHjx9fp04d9xVjkDMW9zX57bfT3Xv359C4Qf1e6tqj90979126fKlVsyb9X+rhFcFPPvty+Jtv932xW41/VfHKYIg8MRm5mTNnslEYRE6w43Q6CufOneNoOrYOo8yBc7fccguFyH04Inj9+vXYSeXKlVu3bl3kGlLJikCkEeDvlPOljxw58umnn8qGe5UrV161ahXETJky0XrHjh3Lli1L4Y8//1i48+MZ68cxT+fLXGhim/ludJu5/j8TV79xY/qct950+8qfFt2eu0L/um+kS/3XMc5uJMBz4Lefafer7R9d/vNy73uG1yhcz7nihcvne37SaePBtYbt+tTpu9Uc9K+CtQ3FTWHJrs9eW9Tr/OXzhrnCzVX613srTaq0hmIrhKXpoIWEjvbQRS9+sW2e6VSO9LlHNp3K8BmK10Lo7Uaiy8wFmCAozD7XkyZNwsLmpFIumUG6d+8+ZsyYBg0aeO2OXyJ7Z1eqVIk/Df5Y+OZUMras5IBYDmrlpFgOfvcrwZOB80PQavfu3dz65JNP6tev78kTR5SYW9DBPuja46XzFy5MfGdU4UIF582a1ryJn+FvUO+ePj1f6PzM82vWJfxuHD758+d/5ZVXJkyYIDzTp0/fefXDAbBYJ6+99hp0foUOEoK+9f7773NMrlRftGjRkCFDghalFRWBGEEA/999993H3w7OP9tGwH379n3r6kfsEhT+ZOusRTsXMIW4Vx5nyYTVIwtmLTrlgQV96rzeolTb9ftXjljS170EODGJXvnqhRNnj2KXuKz4n1UjsEvyZi7Q4va2lfLXoNbZS2de/boHJo5LCbDhpBm2uDfvxBg0LUu1zZouO8S1+78Z843T335Ymg5OSOhoY4ot2/1l69Idnq72Usmc5RJAOHPg4x9mOYMWervIj0SX2eRafsMDBgywdgEnx+jRoxs1ahT0OaZIuHjx4ssvv4wBgeMkQ4YMvCQPHjx49uzZwdklqNeyZcsdO3bkypXLqmocl/nLianP0Nffuq1cpd0/7TVavT1uApQ+AwYbitcCjpa6TVqeP3/e610rETedDBgmgpVOGX/G0qVLbcTQLy9dulSoUKEvvvjCiJo3L+HFAq+JoWhBEYg7BJ5//nl+xrxcWjXndRAiNr+VaMofbJhca0zxDjMbGoqvwsXLF+6fWgvmxTsTnN58zl4802TCnfe8U/Kn496FC5vX7z+v/Nl4wh1WaV7ZIF7641LD8RUmfvuGYZj1/SQq8m/m+vGG6LcwY9245pOqHvv9iHCeOHvsoel1ENLgP+X//PMPr9XD0nRwQkJH+/Ifl9tMuXv9/lWma4+825j+PvpeE0PxLITeLjIj3eX9+/fzk8ZrYtUfv2CRIkU4ssNKdFPGlE+VKhVuEsN8+vRpLBVzGUpB3gTwmoQiJBbqxpbXZOu27ZOmTi9ftkzB/Pn4KcgnVcqU/ys6/f9kp0f3/bx/1NjxTkxX71133XW+eIj/sK6L+2ILlM5hvOJnMxX5aZqyFhSBeEQA5/awYcM46DGgBdAMafzHhAkaO4/+SPwB5TJ57hQK6zglcpbFyMD/HyhiyZMlz5AmYYHJ72fHkR/yZyn8cIXOhrNl6XZ5MiY8kQ6c+juGxtz1Vfjh1++frd436/UJzhI+mdNlbVehC4Xzl88dO3vkKs3+FZamgxMSOtopU6T87wMLyv5vsOhb9cIJ4Q6Fsjmtj4feLk1Epcv9+/fH/pb4KvtAOl6zcEOUoXUaSp8+ferUQUZQ2ZpK6W66tNWKwcvYmiCnv/s+GBFW4hWpCxcvfrVwycrVa3Lnylm/Tu0CFvMF/pvz5C5UIP/kqTMb1K1z6y1FvUpwIH7zzTdZs2bFg2flYaEHV8fKlStz5szJu+C9995r9bZRZcqUKZxpx7m7hLAULVr0qaeeslanjE394osvjho1ivLHH39MREvJkiWNi1uYly9fPnfuXAzVBx54oHz58lYJxKO8++67BKawzlWhQoUOHTo4/4K3b9/Okv/atWtvu+02PEBVqvwdfONVW9Y16QIrnX369Jk2bRoV6ULx4sXRAdN+4cKFHOCH056+N2zYEHygw4aqoiR/BuhMmX59+eWXQmT9FU6CvFi0IhQLN6PQvX77agVmX7r5olPFV/dd6mzV8OLlP37Ym/C+ayV6lovnvylNai+mM2NKMFrnzp0LFy48Z86cxYsXM7Lt27e/4YYbRIj04vrrr2dMGTJ+GyyItG7d2tkydoALsYEOcYhw4eum0X//+9+esDhQmMAc7lpv7Tm+ncvMabNkSpvF0Atnv/XbfUu3Ht5oKO4LKZO7apog2VHN37WKxazJlSnvL7/tK5itmJXuXB5wb0KYgvWTJ1N+LjOmyZTthpusdFMOS9PBCQkL2telTGP6QuHImV9TJE9R/7YWVqKtHJZ2o9LlggULMl8MHz6c1RnnP1vTZXlOfv/991A4uZ3nEgWernhfeCDwxCAGZejQocJPFBdHqB49enTgwIG8BsyaNYs1gTZt2tx551+WurBh5eCDX7FiBfG5VatWlYhJuRXf37HguhEdjp84UaZSddZuKFi1GjthMsRuvfq2f6wLBflX4V81l61YaWWjPHDIMO4OHDLcRrdd7tmzR8bMuqDDDMHYWzmJKsLmaNeu3ZtvvkmwElWaNGmCrQAPFbEwRMirr77KBCNlov+sEih//vnnzM0SD8j7JWUe6NBxuFGFBR2W5KUu38ghUNdIIEKWZaDSpUv36tVLzAXKp06dMgy2Auqh8EtXP9mzZ8eKkinZl7aslUoUMMHhpFGIGvXq1UMsk1zatGkxhjCqJNIbc+rMmTPc6t27txjmWPqEhokOhw8fJrwcCc2bNz9w4ADExx57jEtmYv5yhMfz26EVQsO86uaLjnBf3eeWS52tGm7dd6T4o2/7/ffzYftwEHVRokQJAXPixInmdwLlkUceoQlGEBtFevfQQw9h2goz36SGYcdY1bCWHeAKYohDhIu4V34h6EzBqiRlHrXQfS3ofLV9Pk5+Nws6o5a/cpWzgVX+Bxv+C7He2NK+1kSszLZy2+n1qGuWh2x3nS8fmFqbutsPb3Fmc7772Y8fIuSlTzs7s9nuhqVpv0LCjvbqfctqjynx8ZZ/PFRtXeMy7O2aJsLYZa8LOjT05JNP8lPndc406lzgZaBx48ZiW2TOnJkyH/54eVrKJGJWeXhEyN8XzKS8mVdi2AhIMK3wMLnnnnuyZMny+uuv8ypIFC368EkCCzrJTCejXvj08y8xLErfWd2miZgm3Pq/7r2WLv9m5qzZ2CVcVq/T8OzZc1bmSVOmQ6/TqIWV6Fk2psmDDz6IS4OoZowGxt5qmhDfxDwhcwkSMFeZvxlyHuhcYvBi+YrBAXHGjBm8OzKpY+d6NgdFbGprrImYJtTF6CGf+dixY9gBXDJRiYQLFy7ghiFISi6Z+yW+6emnn/baBPFTVK9Vq5bcJXqcS97UufSlLVOdxArAiVMEO6NmzZrjxo2jCn8hEJctW0YZ24KsOS7nz58vwnGxcMmfgXV9lCBisul4rRceDDvsEmIk5dLrt0Mr+Dy96uaL7tB99zpblTx55vyEBev9/vvtd3tsEy4oXnHEO8KPauTIkeDPwgeI8WEiJ/BozZo12IVCwdzkh4cJiKkHhVEWE9CqjJQd4Ap0iEOHC2ce2vI34qlnuEyT5+a1ZyJ/5sMHrU18uvUDiPw7fOaQle6mHLRpsufYdk9N3LRo4+n3+TPIWfvzChvd4TIsTbsREka0tx3e/ObSAfXGlaGzPT5+jCAbhw6GsV1rK+Htsi/TRP6ueYG0Nu23zIOUvx1sDsO5ZcuWbt26QTSmyebNm5999lkofHB+88SAR+YRM0dQXdJweJKLKCJqpUoSME1iaEFn/y8HgPXG7NkEXNt37btrjHh1oBALFsjf4fEnjxw9+vlXXzdt1MBwYjxS/vmXX878/nv6/3nOzV3PAg90VivwgMlkYGXo2rUrxoF4AqDzCGY+ZjrBdcbvgN8KSzw49DBQcFLg0ONjre6yjLcfkxnh8D/66KOsp2BWS10MBcKt8eWwmiMUHCcojOcfI9pTvngyZPbirry4YypRRlVf2mLx8NfF+gvv9xgWmOoiGWlEw8jyFmWCCVjbEmkwSOIcs+x7773He79UQWEsObH0obRo0aJp06ailTB4fju0grOBFH+vunmlS1ix1+5Lu250tmqY6YY0HeuVtVJclm+6+ilQoACPEjDB60ZFDEqMYCw5staxQfnwYOIJVapUKYxgsXGJ0oeZISaZywyEtVEHuAId4tDhEvs+oukAp84n/HptawSk2wgmhE9awYloedyq4SxMdKn6YiitbP11I9krZOuUv7mKezlhadqNkDCiveGX1TuPbpU+rvl5eefZraY+8IWvhbwwtmtFNXG6LFubEEeIN914LKxquCzzbOexZpZyqMUDnNUZXmx49jJHSGBKs2bNmHFk5wt4oLMWXLduXXHqQ6HMnyTPEJftxjJbDJkmvxxIADTHTTd6xStL5r+j5+6sWL5UieIbt/yw56d9VuZsWf9akz569Jgb0wQ//1133SUSzBTLJV4yyV+3hp4QQoHpw/RM3IDEcEgoq/lZWDVxWWZOErsEfonkIDZF6sp+JwRwsIgoFGZ9dLAGT1lbwZ2DKYO1hIasWeLf4y4OD8PjVVshYiHZtg8iTYmgcVaFaJ0wGoJOrNJwKmLRs8xEthueJ3wD+FdI0zCuIGnU2S6Bx7kVX7p5pfvtvkudDVwHj58ZNe9bc+mr8FzLKlkzJGyNY/vIMOXIkUPoRAixnEz2OO4xoci4Y5oY3xtIYuay2GwyyGwyneGC2f0Qhw6XmCbiTrPpGa7LvzYv+eceDxcun0N+6pTX5cp4c7gacpazfM9XrE08UaV70RsTYrCC+1z+89Ko5YPQ+bm7XnYvISxNuxQSRrRblenAvyNnDpHmjWmCf2vTwXVl8tzhteNhbNfIT7Qu8xoijVjZnYAAACtJSURBVBJEEoppghDPB7tQWPcxt4gghNM8Q3jOc2mNXORRfPPNNycN0ySGMnSOHjsO0Oa1m7LDp0jhQtw9fOSIlSdz5kxyeebM71a6mzJLD2Z6JoYRVwrDbFWGS16FEUWApwiE4kaySx6Jb8WLI/ws1VPAQYKbxPohFsGXQOxlNivMly8f3j9xD1o5vWrrlUgt3uAxNfjRE4OCf7569epWUZRxKvKnyFwr+pDZhMEu+Ng4HS6dW/Glmy+6c/cD1fnU7+fnfrPN778Ll/4aL1s3CfqxUay/JdstucSSk8AUgnW8MjjDRRWvyHglwhwiXKxbIUQWyL1qGzrxxvQJht2ZC79ZRf1+MeFPO1/mgrgxrPQIlXcf2z5kYc+6tzRlS5VQmhi+uM/PJ/cMqDfKZZYQbYWlafdCwo4226z1rTvypqubrWGg+EIv7O0mZpd5eZN+8Tbrq4Mu6Z5PDE+K7RkiG2UZHVw2FC9sMeQ1yZwpIYTn+ImTbrCTF8Tc/9xehtATqXuTD9eLg2Sz9g8P63byzSTBTG9qyUtwsWIBROmbuoEWpIOs5phFCpFAGLb4V2wCWV4hXgTHCck+RJyEuMks6zudOnViUYYlCQI2zRKmaZR3fawTvCaDBg2qUaMGsQssQ5i7Lgt+W3EpBzY33Q9I52J5sn0z8hFnBVIkT5bh+n+kJDjz+70rPzBfFl5MwSU/QmD326mgGfJmLkhdXr6tEn65mr6bP2sRKzFC5RPnjr20oHOpXBW71ng5lCZIdWZv/sH1x7Jxu0s5YWk6ICGRQDttqnQV81b7ZOv7KXy/xYW33UTuMpEAMqARdR/6+s3ICjtL7b4Y4pqeGG8eLgHKni0hyoT0HDf8Bw4mPLDKlS1lZSb6hMvrUl/nK2DFyuxQFr8ZDLYDbuSnQMysQ91w3RIDiInfuiiD25BoXLGcbA0RyrB69WpCZLBLzC2vnOaurwK/daJGWHEgdU0SSYTTJo01He6y8tWqVSscm4Hui+yyFV9K2uguu+9e5xQpkhNu4vwvdLvEluknrgjrMqLpZqzBRXQLuhGrZDQMe6F20YRIYSYb/A1G+N7jCd7EQlkj/npw8tzxbvMfyZEhN7vQmjgJiEd/T3AXuf98tGXmf9eOeqn2MOuKBvtwOEgIS9OBCokQ2lnSJTzVC/oerzC2m/hdFgcnj0p8kA4DGqFb5EkgmXVeT/nG++55K14oMWSalCqZsJR7woXX5NCvh79ds65wwYIVyv0jUPHwkQTTJE/uXL6c2DIqxLdKwQR2yKX5JvYCTwCXkq4idAxkUmmwjolhFIpM1eSkmIq+CrJYQxgBDBs3JmzJIAaH1ewQaaRviBDyfSjgBcEXIouLzFuEyhIb5bV3pK7Ab6x4WQ8SadKuV21larR1QUShG3lJyAQl+QtEGquY5kePOYIFAwPBNyS/2SJLqEUSh4nYgs328duKV90Q4pXut/vSurPONg1DuZTfmMEKUbbxFeH4wEwrnJDAShwamoM5QA9flIyOX7hME7bRjBBckgDJpgtGf5cFiWNl2zRP/i2Hvnvv+wnHz/4l8+bMBTjPD7ZVe5cI84+HN+089iPv4nVvbSYU/iiIhXL4mVlb+eNKwurbHx5Nc4Dfh5umrdy72DAfP3vk2bkPM2QcuMPQsUkaFtKGA6u7zmv37d6/ZgIS7kitsg6xqW4KszdOeXPZwKer9a6Qtyo79J+5eJrT/iavfqv3Z104iw62IJp202U3+kcC7XOXzl7646LpPuWluz/nGJ2qlrOHItEuLUaoy6YvXgvyYMTNKc9kN0ODHJl35OlqxHrOCH6fIRIoiYPc6rE2D20jOV4L/PnFyIflGDKHyf49eOhXq0qSPHxX3UYckQOd7Bs2OClbuca2HfbNql957XWqvz5qjLW6Z5lcXxktIqI97wqFZBkJayJogx8Nz3deuEnvxEkgDGRbiBOP1A9fQgydrbRokZjHJ554glkcumTZMA8hXNhkWzYoPOyEQvSG6MmsT1ssPaISZ0sasdaCJPQSjtCjRw8SPcTbwR8MaTJE+/rSlpMgaIIlTBxCRhoBsBJDgH8Itw3xmxKzyWzECz2zqeFkFxasLtae+BM1RCngv0Fy3rx5gc52Sy79tuJVN+p6pTt336qAg85WtlDKoC2IoarIgSLvVeyRIxQ5sIkxJUNHKBIexAFPcgluoAeGL7zwAhS/cAU0xKHDhREsfcTwFYXNt3Py8PhVr5NT2mj8HafP/2NLmPOXzrM9PLc4qsaI4hialpOrsTn9/pN7yUF9es4DMMzbPMMwmIB0ki0N0WuB5tghnuqTVv81BIZt2tox0Pl34FRCXwjbbDvjXqHYvtlPRdTGLpG/TVLzjBxbgV3tbdXN5diVw4Q5iKb9dtmN/pFAm9MDwAeQx6x4ddfRbT8c+p7E4GaTqnz/y7cGmUi0i/DIdVk095U8/Mwzz/AzwGUrbH6HRthIIKAWD3P+qIXCt2xgCBGLRIjsNgsbzw3bHEFMpFCwQniLhoeHMNuy8ZuUfEAo7JjFY98Ij8dCDHlN0qVL27JZY2D9ZtVqvs3nvpbNHm3/8G+nT7f99xO1GjSrUacRr++zZ/y3WJGEUTEf0F+yfAW72rdp2dwQbQWcECTUyAam3OrZsycpW5J+YuNkRxCCYVlVwXyRzFuSUNirQzLLyR8m3UsW+ZhjmMJtr6o2aezJg1nDiy+5wSTEEqVB0/DgDyfykSRSNt7BxBEKwac8ZykTwMExDRQwVmiLqBcSdmS6gmj7sBcZfeG3zsY7fJNAIYEL/NbZM82rtmSoEjaLHH7i5KqZw7hRlXOnSEeiy2SvcSCipO8jk4lTMrSldVTCi0O6h6c/U4wb63qQTWHnVtja36tuvnR26L51Uzt0cNDZpmFwl2T3YczJGw9jyo+NHD9+NhI2z1PMZKQjn4gNRoe5nHU6nk04AOiIaVei3gRJZ7jw5wU0xKHDxcYt+PBQ1UzSRm1fhV3Htj0wrda7342HgdPy2kyt+brloL5UKVJxui+3Mlp2sr8pfS72VGVVpd3Me1v+txorO11r9G9c4n7TBH/1lHlSk8duiJ4FolBpDucHt6avG4sasgmpcGZMm5D9R9ZPutTXUxi/aoREtMhd6zdH/aVPkxASJ+1SILTL64Ggv5zaN/7bEda61vI9xf7a1Sboph267Eb/SKBNhG+6624A5A82Tnns/WbdPn70+uvSj289t3TuO0zfI9EuwiPXZaO5Z4HfADmJvJjxwil3/f4aMXFq167NLp3wk2+Mu4W3Vqx8TByeDELk+c8aDXOEnCnIcwMKf2XMBTJHEOAFhe09eTfg2cIbIxMiyX08SVCG2ES+kSw+FU+144YCmrHzwSNSs37Tp5//+7XJ6HbhwsWtP25fvnIVWTmGaC2sWr0WlwnbslmJoZd5KWRHV34NIYpi+vd0LbiRic8ci4QJj9+fX37WcYxXAwMFg8ZvFV8MeB2JADcuHPKSPBVAN/48vvrqK08hVOQPjN2XPW9ZKW5asfI7l91030FnZ+HhvSteE1LWcQIT0sSDBuvW1gSuLDA0Q8DdmIKLZyt2Hvv/2tR29prYmK2Xp86d+G7/t6z4WIlSZqZnXxDeuW23+IHx18HjnrdG262ALlllwEMTUBUcqxzygJ+SQQmooo050KbD1eVIoH3+0jnOxMFNcvC3/azZ2Xoql5Fo12tDnsQgmhYhXr0mEomIbWEaCtfQGIEuC7xyM0kRiQg/2z2grcuKscwWQ7vBCkzs91qifJVNm38IFLXneva+u15jdjQJtKLyB40AVjyOJV9LNkGLjWjFGNHZmCYR7Wzowp3hYscn1qSIv7Y2FLRpYhXivoytiWPJesKD+7ohcrLWZjaMDlFUQNWj2OVoNR2tdmVcvJomHGfDJiJiEJjhi66eRo0kUIih5GFxNFWrWrlxg3p9Bg6eMn6Mm23TpBab3C9eumLy2FHZsmWNG4dVfCqKg5ElHlYiyKdnueejjz7yGpYbU52LQZ3xhQCRrPvEFFYo4x4uDrzEz8wpDXh3WDpM/I7gsaN14sDw3yRm67gksUs4/NKWxJcIOkSry3QtWk1Hq12H0STGn+2mCAYw2ypGER8HPeP4VgyaVzy1R73zn5YPtve1dmPTecasD2o1aEqEio2ul5FAgEBO83P3daBPJNoNRWas6YyfSXYfJsSH8NVQuhaJugHBRdAD0TzEZpn1SvGaED5FnA0fzzMvw6gz56uR1hRGgS5FMS2NGDGCKBOX/GFki1aX6UK0mo5Wu6xoy29YkuaIGJNxfPvtt/Pnz89Kom1Yo6WnTY2kcZmcbpiZJqYKGzZt/u77je0ffsBZq2PHjo/+z8SuT3e+4X/H/zrz690QESA2gvdUIlqIguTv1myiHKLYiFaPKZ0JAAI3s9s08aREGSfOZjkuQQ4CLuwPFrklcpntcCRCXJpjMZ64YJdNK5siEDsIkLVAfrjRBwcJjz7+OsgSIJSVMCNzSwthRyB2TZOwd1UFKgKKgCKgCCgCikDsIxBDycOxD5ZqqAgoAoqAIqAIKAKRRkBNk0gjrPIVAUVAEVAEFAFFIAAE1DQJACxlVQQUAUVAEVAEFIFII6CmSaQRVvmKgCKgCCgCioAiEAACapoEAJayKgKKgCKgCCgCikCkEVDTJNIIq3xFQBFQBBQBRUARCACBmNsNNgDdo8e6cePG++67j+P0zJF4ia8LG9NxioetXQ4uLliwoI2YlC7pNUdqjRkzhjOJONoqKXUtEn1RuCKBqspUBBSBSCOgpkkwCHPy8I8//sj2l+PGjYvWNu0ctseRTuwTv27dOvrAaZONGjXiwN6kbZqwM/q3337LwXJyBHQwg3ct1VG4rqXR1r4qAkkHAV3QCWYs2WV88ODBs2fPjpZdgtJp06bt06ePOcLj8ccfnzNnTkCbir7//vvsxBxM/6NXh8PBhw8fHr32A2uZTeg5byiwOmHlji+4wtp1FaYIKAJxjICaJsEMXvr06Xv06MFR7MFUDmudTJkyoQwiOQMzIMEcfUIXrBuKB1Q9isw5c+aMYusBNT19+nSWnwKqEnbmOIIr7H1XgYqAIhCnCKhpEqcD97facooNCzp/k1yUWPrZvXu3C8aYYwm0p9HqwM6dO+VMmWgpIO3GC1zRRUlbVwQUgZhCILD5LKZUj6IyJ0+enDp16s8//zx06NAoquGr6RMnTnDE2tGjRwcOHPjdd99xQhVBo23atLnzzjupcvbs2RdffHHUqFGUOUD10KFDJUuWLFu2rEjjkDZO1NyxYwcxKy1btrSFdKxevXr+/Pn79u2744476tWrV7hwYZsORIFwXPj69es5XLdChQodOnRInTq18BCgM2XKlC5duqRIkWLs2LFFixZ96qmnbNXNpYMcw2Mr+NIcUdOmTdu1axcrQZs2bWLgzpw506xZs3vuuQcJRDTPnTuXHtWtW7dVq1YuZcK2fPlyRHXu3BkQWEpbvHgxp++2b9+e4/rkbtu2bRkIJMOWMmVKhAPF6dOnieHdvHlzrly5br/99i1btrAyaGvUeklE0cqVK1mX4TzF0qVLgzlHnhoG54E2bNYCUJgTPdGKgwa5y2+AQRc2DlnNmjWrtYqWFQFFQBFIbASSxgHKidmLxx577PqrpxwztSRmu77akomE02uFgdmRMBR+Rhgib7zxhomGQedt27bBQ/AsNgcrQfAQm0L5rbfego4xgSuFmZUjhflgQPDCTQqSabdv375I69SpE3NtuXLlqI5M+FGAurARkFuoUCFm0F69ehUvXhwGyqdOnSKVBuuHSz6c2CnoUea4WiPcWvAlR3gWLFhAXXNAOUQHzTmmXGyF2267DWuMHhlAPvjgg9GjR1udCtbOOsgkvqdEiRIJnUmWbOLEiaZrXD7yyCOiJIXKlStDyZYtGwjz4cDS33///dZbbyWxa/z48RxhCg7AZe24rQx/pUqVsBGxgLt37457LGPGjJiGwuZ3oIXNBlfv3r2xSFCMdcBJkyYJz+HDh4lVgti8eXOCu4Wo34qAIqAIRAuBZNFqOH7b5U23W7duPMdj0zThjfzZZ59FPT5VqlRZs2YNCovzA4+FgV0ovI4bCrMsVfCLCAWPC5dMnziHoEimLhEtcnfDhg0JDSRL9vbbb4uQCxcu4AipX7++MDDb4RiA4emnnz548OD3338vxhCUGTNmMDHjAOClX5it3w5yhM0210J00Jw4X+ykBEWTJataterWrVsJr2nYsCGXzM0YCjg/ULVjx45Q8uXLZzRxkImRgS9KLB4MnZEjR9JBTMOENpIlO3LkiAjBGcMlQ2BkTpgwAQop30Lh0sE0IRiIlCuURGfhxzdDdUxGTDcoLgfaEy6ip5GDlUOUrtHttddeu/HGG8+dO2coWlAEFAFFIFoIqGkSDPKk7PJwj03ThP6QeoN6t9xyC9O8dK9///5Q8NWb3nqaJlgSfJj25MMyEFX4sApDra5du1JmVchIgBkKrgihvPPOO1ySkPI/Aetq1aoFxcy+0uJLL71kJHgt+JXjOddeVdyn5p999hlqsA5iZmKWsaCwvMJaj+iA9QYFdwILKEJxlgmPOE4mT54s/AiXoB9sQaF4miYvv/wyrbRr104sAKpgLQmz5zfeEZitQwYPa2QQ69SpI/xuBtoTLpwxWCHIwftl2sXLRVi0udSCIqAIKAJRREBjTXhEB/yRSSjgaolVQdTLnDmz0ZPlDBo/duyYLxVw4/PqnzdvXnmlFjbmRQrp0qXjm5d4vtnNRW7xTXgKVQj2FAoWCQVCFoj5EArrSkgwOsjSiSxzCIPXb79ybLX8ap4mTRqq4P4xUS+y2IQhkiFDBpEmQTNsUMbyE0swfmVSS/qVI0cOkYDwIkWK4KRxAJmULuAlDIitWQYMGMDqCREqUt3zW27JwJm7ZK3jdFm6dCnrTbhPghhoRAEFfjWcSYS5PPjggzh+li1bxshGPZnIdFMLioAicI0joKZJMD8AZoVgqiVWHU/1JPrEoX2xMAhuJQLDKxtBo2+++SbrOCxnMB9jTctetGYnFZFAdAvOJK8STJCH17uG6FeO4ZSCX8090bDGl4gQCb8wkv3KhNNTrF+QCRxheQsYsQOIii1VqhQeKcJxTLvWwpIlS7i0yZT99AhqZlkKOzIIHaQJlvaGDBmCIcUiUYsWLfBUEQVcoEABqwJaVgQUAUUgWgjE9BQbLVCuwXZltiYihNdxa/dZdCCfBQqhIcRdYpGQdEPcCdE2hGi0bt2aV3/hFwnk5lirUya1xEZxvgxUjl/NnZvzejcSMmkI4wzTDa8SNgqXJAfVrFlTzCBPNYAaom3jGXHSEICSO3duzyruKcT9YJ3AP2jQIDK52DzwiSeecF9dORUBRUARiCgCappEFN64EV6sWDF0JcOW+AOr0v369SOdBAqzNc5/1gI4poeFACJYCUZ57733DLNIYKqTpR+hk5VasWJFmWUNp3MhUDl+NXduzuvdSMikIdKqsUsIjCUfGJwJpMVuIyjYqw6ylLNw4UIresAOM4tiNjePVwnORNZ0WKojnhf/DWNK/LIzv95VBBQBRSDREFDTJBioZfa1zsE//fQTMYmENwYjLrQ6xLoigN1KjBihEDlhKDK9EeNpKBJ4QfYNFF7fs2fPzrYclHmZFoMD9wnhoiSeSD4LL/dNmjTB8iDwk5Qc7BXbLiC4VajOhijwS7wFSz8kIRPpKUs5ooNfiPzKsYHvV3PptXWwxDPkiQ/6C5tfmXD6BdmKMCYamTtYfuwoQ10+RI2I34JbQrF9k34MZe/evSR7m1vE2FJu2rSpUPzqAJsNLiMKc0SaIKiFfPjQbR0jWQuKgCKgCISKABOGfgJFgI1AwJ30S+YG6jLVsfAP5YUXXghUVIj8Ji6Vk5CNKMnHIceEaUmIssEaeRmGwloMChPugCefmQk2XuhN7AKhoPQOBnY6EQmvv/46l0xgbOPBesTdd99NiCuWh3VvEuIV4BG2PHnyIA0h7DmGBBaGoHCL/TlEoMO3gxxqEauBHIJ8BXwozppzBCP8LIKggzRK1CcUPpgFQtmzZ49QTHecZSJKomvZGUUkQJGUJdQTijmfCP8E28Bg20k+NvpIHhBJT/iiSA4Sfs9v2Q+NRRwMPu4y1tgT2DSG081Ae8JlqmP3YD+hg+5lYjDRgiKgCMQCApo8HPAoEMloMjvI9SBcEdOELT2Y29iULGBxwVbA/UASqURFyLSKncFWGexPaohEpPLOzWQmm3DABoXVBNpkema2xp9Biq/JocUdYlJOYH7mmWfM9M80JlOvtGX9Zq6VThCV8vDDD5tbhFWSisItpnmyV4SOvcKeY/h4HPrtSw5ViHEx4LMrybx580SOL80xFsXGonWWSD788ENsIwwvUQaDkuAPNiYxB80w97Nbq7NMFkHYAUUkoMz999/Psotk/UAEVXalQwJeGSJMoWARSgI2ponk1BApQhow6ym0Lm15/UYCW91jAzFMdJZaBPqYEXEz0L7gMs3dddddKGkutaAIKAKKQCwgkBwl5CGr36EgwNb1bILO4oVxPIQiLXHqMskR62AzOJgOed1nLYbMEdn9QpQhK5id15mDmVCJeMC2wKDB64A/hi7LQoNwsprD5E1ddv4wRlIQPQpUji/Ng2jaVAldJnGsmDuyuEOPCNYBOvwfgA/CxkgyLXoW4ARP/FWsuIX314U+uLLIGZYdaDybVooioAgoAlFBQE2TqMAeZ41iqbCOw15hZs9T0wHOZGF/d8l0NUQtxAUC7LGGGwk7SYKB4kJnVVIRUASuBQR0X5NrYZRD7SObnZBiSkoOESrsfWLEEUHJ9CaBLIaohVhGgF3y2LGXY48I9WUli32N1S6J5fFS3RSBaxMBNU2uzXEPrNdkzbDuQzoPRwZyjA4fVha4ZMvzESNGmISRwIQqdzQQwMo0piRRU4QrRUMLbVMRUAQUAScEdEHHCR29ZxAgQoId1jmPhjRpwn6JyiSilvRXN9ESRogWoo4Aa3OcrUiMEdlVZACZYwSirpgqoAgoAoqAQUBNEwOFFhQBRUARUAQUAUUg+gjolmvRHwPVQBFQBBQBRUARUAQMAmqaGCi0oAgoAoqAIqAIKALRR0BNk+iPgWqgCCgCioAioAgoAgYBNU0MFFpQBBQBRUARUAQUgegjoKZJ9MdANVAEFAFFQBFQBBQBg4CaJgYKLSgCioAioAgoAopA9BFQ0yT6Y6AaKAKKgCKgCCgCioBBQE0TA4XPAptm3nLLLdYT7DZu3Mgxtmxd5bNO5G9wuh7n+jp/OBkORdi2tXfv3vnz5+d43sjrFUALMatYAH1ILFYOGmRT+Xvvvffuu+9OrDa1HUVAEVAEooOAblTvH3fOjmEPzWXLllWsWFG4v/nmGw5FO3DgwLhx46J1BAnH/86bN2/mzJlsz4pWuXPn5kxgCufOneNAYDZspYyS27dvf+aZZ/bs2SO3+I6Rz/z582NTsRjBx6YGRglmKPZomTJlbLf0UhFQBBSBJIaAek38D+h77703aNCgjh07GtaHHnpo8ODBs2fPjpZdgiZ4QTinbcKECaLV9OnTd179/PLLL1gnr732GnTOuGnUqNGuXbs49cYoH8bC+++//8MPPwQnMKKKBaeSQ62LFy+CtgNDpG/h8Ro+fHikW1H5ioAioAjEAgJqmvgfhRo1arz44ouZM2c2rOnTp+fE3dq1axtKtApebQ4ORnn++efx/GOaoBj2U44cOcKu4eXLlwEBSyhoyRFSLGh9HCpi+X3yyScODIlwK2fOnInQijahCCgCikDUEVDTJOpDEJICDsezvfPOO8b5nypV+Ffu/u///m/37t0haZ8sWSQUC1Elz+p4o5577jlPeiJT4gKrRMZEm1MEFIEkiUD4Z6ykB9PKlSs5dJcFnTvuuEN6d/LkyalTpxLFOXTo0BjsL6EwWbNm5XBgZ90uXbpE11gp4Bza0qVL16tXj0UiaxUWhhYuXMhpw8RgVqpUqWHDhoiFgVOIcSONGjWK8scff0xoS8mSJcuWLWuta8qER7z77rvr168n/KVChQodOnRInTq1ueu14FCFeAvGom3btuXLl580aRL6o3mbNm3wKBDzS1QQIUF4kmAoUKCAVbiDzOXLlzOanTt3Lly48Jw5cxYvXozw9u3b33DDDUjgLtKI7Nm3bx9sKVOmbNWqFV04ffr0mDFjNm/enCtXLg5h3rJlC2t81hZtZWe0kU+/jh49OnDgwO+++46OnD9/nn7deeedNjnmctq0aVeuXJFLtOIYYcqMxZdffinEBg0ayHiZKlpQBBQBRSA+EODpph9fCCxdurRUqVIykESWCNtjjz12/fXXQ2RC8lUx0egS34oyixYtMo0y/TO3mUsKMsPNnTvXEFnrwdooWLAg1lX37t3xvmTMmJHQVMOAfZM2bVqMCUyQOnXq0ATGx5kzZ2D4/PPPW7ZsmSlTJojVqlWj/NZbb5mK1sK6desKFSqE9dCrV6/ixYvDT/nUqVOGx1MxX1XQxziB3nzzTcom0AeZBw8eNHdppVixYqKqNORL5tdff12iRAn4+UycOBEDS8p8P/LII1KXQuXKlaFky5aNnvIhJhr0sPz+9a9/jR8/nkQtfg9003TKs+CMNmYQUNMEaLzxxhumX4jdtm2bkbZgwQJ46KZQyLrCIoHC8iJWmhAPHz78+OOPQ2zevDlh2qauFhQBRUARiCMEksWRromvKg/6DRs2yBxsTBPej7t168bTP6ZMkwcffBBPBkYGtgJzm7NpQpgIUahMaVu3bhVU8RbQoxQpUjCLC4XeQcEJwSX8efLk4dJqu4gpgNPF17jgxihatGj9+vWFATBxMCCEZGxTxWaaOFTBo0DONvYBEvhgMDHff/DBB7KkxRjR/WPHjuHjuemmm2DA1JBWHGRiZOCiEO8IoI0cORITZ9iwYVdbSHbkyBGRgEkHpUqVKkZtiT5eu3atULh0ME38oo3r5dlnn5VGaYU0dX5jAm+XLl1MozbTBHqfPn2ohU1JlK5hIwL6xhtvxONlKFpQBBQBRSC+ENBYE5kRvH/ziMdrgp/fepu3f16XrZRYKDOnEvmBE0W8Bc4qMclhZBDeaxZ9mjVrhoOENZeePXtKXd7ICW4QBsrs7AKddQdnyda7vMrv2LEDrFjN4cP6lzhOWAOyslnLDlUwSrCWsHXgJ2ebORunQosWLcSt9cQTT5BFxfpF3bp16Rc8e/fuFckOMjFisABk6Qc2kplZGMJyEnNHsrKt6pmyBP/iK2LZBeLDDz8sVpdhsBb8oo3npmrVqlQBZLxfDARAMSJQHHTgLpYoP1HWqkgiMy3SETw94oYxRC0oAoqAIhBHCGisif/B8gw19aT4lxJhDtz7d911lzRCbrNza4RTwMCucVY2auEGYA0LAwX3CQXCKbJnz75ixYqxY8cSdAIzDgBrFecyDhgYCH1AgnAyXxIA4YCe3ypp0qRBlPixRCbzOmpb86fElMSDIgx+ZYo+JomJOJIiRYqQFG0kiBzrN8lZeCyIDiH2ZcCAAayeCKRWHlN2g7boQC8MODI6DjogH+MMdwuLZYS54DbD8YOXi81sop5MZPquBUVAEVAEgkBATRP/oDFP25g8KTaG6F7ed999GTJkcNBhyZIl3LW9WBN3AhE3AC6BvHnzIoGVBSwJXsrJT8EJgbHiINPzFoktEAmekLUhTwZPit8qnshLvIVVlI0ShEwbMlbhUiZMB+cKIS/YAUTF4rmZMmUKIS+enFDcoO3ZL786SFt4j4YMGYIhxZIcPiTSsvAb2UKAvWqlREVAEVAEYhYB+6Qbs4qqYu4RII7EeFC81mLREbptSxJxGxCAwsay3CVWg0mOJQYiIcheIaDBqygHoiS7spRj4yEhyEYxl0FUMXV9FSIhE/8EJhfeIGwU2iUIpmbNmmIDearhBm3PWi4pOJCwTmBmPYtwHCKiWNtyWVfZFAFFQBGITQTUNInNcYmsVrJYwBqNzJrSmMSRkI2C1wGrhXgFVk9Ys5D974XHyu9XRdJk4GHKtC4Dkd3Kfv++5ARRJRJq+JVJOjR2CSGrZC+TUUwgLfbWjBkzvFb0i7bXWu6JrOkwRsTz4r8heoa4Y/d1lVMRUAQUgRhEQE0T/4MiM6t1fvWkEK7Iru2kRfgXF1YO0k9EHnuNOAi2KYzZATNrNKQBm1pyfmHTpk2hbNq0iW9qSZgnwslEhcLmHMTbss0JZdmehOBWyrgN+LZ92CgFCpGwbIgiMRNkxDz66KOEfOJ1EGabYn6roAAVpZZIkNOCrBSxewzFr0zBUDolMkWCtAXF2lNMKzJ32PufhCBhJkZH/BbcEort2y/a8PvVAR4bVqYVzBFpgqAWMttt61mGTQuKgCKgCMQNAjyF9eOAAPOBrHS8+uqrho3UDAaYNQ5mFIjMjgRnQHnhhRcMT+IUzJs625P4apEuSD6tlUd26KJrmA5UJGYCHmZZEUIALCGW9IhUZNwehIVK/Cm5vuTs4CGArXXr1jAQZsEKAjOi19ZZEoKHD/Ml6cdEVAAae5cJs1fFHKpgPQjOHGdjmqtVqxby2czDUNq1awcFi8RQHGSSditdGz16tPBDkXQbQkmEYs4Jwj9Rrlw5Fm7YGI0mSBTCfIGna9euLBuR8WtatBWc0Ya5f//+CKRdMJG6sqMdCTiGgj7wECorvzprE1iZ2E/ooHuZWGHRsiKgCMQpArqvidPAsamJ5KYyJTBVs5UZ3MQ/miBTkjwJcsQ0kaTWvn37OokL6z2OFJZAB3Tjw9yPN4I9xGyNMF+a8Ezc/k2aNBEGpnmCW5mVcWBgbRBfQu+scx7be2TJkgXJzI7skiLWGOYLCxkigWQQAlOojnFAqKytXbkkk5nE2qsKJnwRnklKi9zypZivKhhPpiOMRePGjdmUhTxbEY7RU716dXgAwYSUsuCCjUVzvmSyCJIvXz6RwJjef//9LHJJhjNEetepUyeqgxURplCAgnBXKJgmkkoDbugAsISeSL+8fjujTSiPBMTQBCHDuLKwEWW3FaGwbMRWOuZXx3hx6LStIaKLUNJG1EtFQBFQBOIRgeQozeNPPyEiwNb1LIJY58UQBSZOdWwRpmfMGrZmNzO6aZr1KRaqiISVW+ybwkRuJlHYqI4HxWFLDxHFag6tMK+T6GutbhryLARRxVOIjRKiTOJvsMxkcQdRmEesc2EMAQI2k9kLztao9dIZbStnoGX0wSlFzrD4kAKtrvyKgCKgCMQUAmqaxNRwqDKKQDAIcAT0hx9+iJ1kgniCkaJ1FAFFQBGIDQR0X5PYGAfVQhEIEAHikYm5YQNctsVji/2PPvpI7ZIAIVR2RUARiFEE1DSJ0YFRtRQBZwQ4P0hCZWEj/kmOYHSuoncVAUVAEYgLBHRBJy6GSZVUBOwIkInNocfE+pCPTQaQ2eHezqfXioAioAjEGwJqmsTbiKm+ioAioAgoAopAkkZAt1xL0sOrnVMEFAFFQBFQBOINATVN4m3EVF9FQBFQBBQBRSBJI6CmSZIeXu2cIqAIKAKKgCIQbwioaRJvI6b6KgKKgCKgCCgCSRoBNU2S9PBq5xQBRUARUAQUgXhDQE2TeBsx1VcRUAQUAUVAEUjSCKhpkqSHVzunCCgCioAioAjEGwJqmsTbiKm+ioAioAgoAopAkkZATZMkPbzaOUVAEVAEFAFFIN4QUNMk3kZM9VUEFAFFQBFQBJI0AmqaJOnh1c4pAoqAIqAIKALxhoCaJvE2YqqvIqAIKAKKgCKQpBFQ0yRJD692ThFQBBQBRUARiDcE1DSJtxFTfRUBRUARUAQUgSSNgJomSXp4tXOKgCKgCCgCikC8IaCmSbyNmOqrCCgCioAioAgkaQTUNEnSw6udUwQUAUVAEVAE4g0BNU3ibcRUX0VAEVAEFAFFIEkjoKZJkh5e7ZwioAgoAoqAIhBvCKhpEm8jpvoqAoqAIqAIKAJJGgE1TZL08GrnFAFFQBFQBBSBeEMgVaAK//nnnzt37ly/fv2mTZty5sxZoUKFMmXKpEuXzlnO+fPnBw8eXLJkyVatWjlz6l1FQBFQBBQBRUARuJYRCMxrgjlSrly54sWLDx8+/Keffho1alSVKlUwUKZPn+4MYs+ePV9++eX58+c7s+ldRUARUAQUAUVAEbjGEQjANBk9enTFihWPHDmyaNGiNWvWYI5su/rJlCnTQ1c/ly9f9ormV1999cYbb3i9pURFQBFQBBQBRUARUASsCLg1TVatWvXUU09duHBh1qxZ1apVMyKKFSv24Ycfpk2bFktl2LBhhm4KJ06caN++PeaLoWhBEVAEFAFFQBFQBBQBXwi4Mk2wSDp27EiUSZ06dapWrWqTVb58+V69ekHs37//jh07bHcff/zxm2++mQUdG10vFQFFQBFQBBQBRUAR8ETAlWkyZ86crVu3UrlTp06eIqC0aNGCb2JdR4wYYWWYNm3ap59+ikMlVSov8bZjxozBE8MKkbWKlhUBRUARUAQUAUXgWkbAi8XgCceGDRuEWKhQIc+7UG677bYcOXL8+uuvhhPi3r17n3zySaJMChcu7FnrwIEDXbp0uXLlSp48eXr06OHJoBRFQBFQBBQBRUARuAYRcOU1ITFHoMmfP78vjMjT4daWLVuEgdWfdu3a1apVi5Ugr1Xgr1y5ctasWatXr+6VQYmKgCKgCCgCioAicA0i4MprcvDgQaBJnjy5QzRrlixZ4Pnt6idjxoyExBJ3wkqQL0xTpEixYsWKP/74I2XKlL54lK4IKAKKgCKgCCgC1xoC/w8fQw7Vn3jrcgAAAABJRU5ErkJggg==)"
      ],
      "metadata": {
        "id": "7LkUXTSwv3z4"
      }
    },
    {
      "cell_type": "code",
      "source": [
        "import numpy as np\n",
        "\n",
        "# Q3 (a)\n",
        "array_a = np.array([10, 52, 62, 16, 16, 54, 453])\n",
        "\n",
        "# i. Sorted array\n",
        "sorted_array_a = np.sort(array_a)\n",
        "print(\"(a) i. Sorted array:\", sorted_array_a)\n",
        "\n",
        "# ii. Indices of sorted array\n",
        "indices_sorted_array_a = np.argsort(array_a)\n",
        "print(\"(a) ii. Indices of sorted array:\", indices_sorted_array_a)\n",
        "\n",
        "# iii. 4 smallest elements\n",
        "smallest_elements = np.partition(array_a, 4)[:4]\n",
        "print(\"(a) iii. 4 smallest elements:\", smallest_elements)\n",
        "\n",
        "# iv. 5 largest elements\n",
        "largest_elements = np.partition(array_a, -5)[-5:]\n",
        "print(\"(a) iv. 5 largest elements:\", largest_elements)\n",
        "\n",
        "# Q3 (b)\n",
        "array_b = np.array([1.0, 1.2, 2.2, 2.0, 3.0, 2.0])\n",
        "\n",
        "# i. Integer elements only\n",
        "integer_elements = array_b[array_b % 1 == 0]\n",
        "print(\"\\n(b) i. Integer elements only:\", integer_elements)\n",
        "\n",
        "# ii. Float elements only\n",
        "float_elements = array_b[array_b % 1 != 0]\n",
        "print(\"(b) ii. Float elements only:\", float_elements)"
      ],
      "metadata": {
        "colab": {
          "base_uri": "https://localhost:8080/"
        },
        "id": "XJqYzVAPwFOX",
        "outputId": "3d60fcd1-510f-4d1a-cc54-a679e28d7774"
      },
      "execution_count": 2,
      "outputs": [
        {
          "output_type": "stream",
          "name": "stdout",
          "text": [
            "(a) i. Sorted array: [ 10  16  16  52  54  62 453]\n",
            "(a) ii. Indices of sorted array: [0 3 4 1 5 2 6]\n",
            "(a) iii. 4 smallest elements: [10 16 16 52]\n",
            "(a) iv. 5 largest elements: [ 16  52  54  62 453]\n",
            "\n",
            "(b) i. Integer elements only: [1. 2. 3. 2.]\n",
            "(b) ii. Float elements only: [1.2 2.2]\n"
          ]
        }
      ]
    },
    {
      "cell_type": "markdown",
      "source": [
        "Q4"
      ],
      "metadata": {
        "id": "uF4swJuUwaUo"
      }
    },
    {
      "cell_type": "code",
      "source": [
        "import numpy as np\n",
        "import cv2\n",
        "\n",
        "def img_to_array(path, output_filename=\"image_array.txt\"):\n",
        "    \"\"\"\n",
        "    Reads an image from a specified path, converts it to a NumPy array,\n",
        "    and saves the array to a text file.\n",
        "\n",
        "    Args:\n",
        "        path (str): The path to the image file.\n",
        "        output_filename (str): The name of the output text file.\n",
        "    \"\"\"\n",
        "    try:\n",
        "        img = cv2.imread(path, cv2.IMREAD_UNCHANGED)\n",
        "\n",
        "        if img is None:\n",
        "            print(f\"Error: Could not read image from {path}\")\n",
        "            return\n",
        "\n",
        "        if len(img.shape) == 2:\n",
        "            print(\"Image is grayscale.\")\n",
        "            img_array = np.array(img)\n",
        "        elif len(img.shape) == 3 and img.shape[2] == 3:\n",
        "            print(\"Image is RGB.\")\n",
        "            img_array = np.array(img)\n",
        "        elif len(img.shape) == 3 and img.shape[2] == 4:\n",
        "            print(\"Image is RGBA, converting to RGB.\")\n",
        "            img_array = np.array(img[:, :, :3])\n",
        "            print(\"Unsupported image format.\")\n",
        "            return\n",
        "\n",
        "        np.savetxt(output_filename, img_array.flatten(), fmt='%d')\n",
        "        print(f\"Image array saved to {output_filename}\")\n",
        "\n",
        "    except Exception as e:\n",
        "        print(f\"An error occurred: {e}\")\n",
        "\n",
        "\n",
        "dummy_img = np.random.randint(0, 256, (100, 100, 3), dtype=np.uint8)\n",
        "cv2.imwrite(\"dummy_image.png\", dummy_img)\n",
        "\n",
        "print(\"Running img_to_array for a dummy RGB image:\")\n",
        "img_to_array(\"dummy_image.png\", \"dummy_image_array_rgb.txt\")\n",
        "\n",
        "dummy_gray_img = np.random.randint(0, 256, (100, 100), dtype=np.uint8)\n",
        "cv2.imwrite(\"dummy_gray_image.png\", dummy_gray_img)\n",
        "\n",
        "print(\"\\nRunning img_to_array for a dummy grayscale image:\")\n",
        "img_to_array(\"dummy_gray_image.png\", \"dummy_image_array_gray.txt\")\n",
        "\n",
        "\n",
        "# (b) Load the saved file into notebook\n",
        "print(\"\\nLoading the saved text file:\")\n",
        "try:\n",
        "    loaded_array_rgb = np.loadtxt(\"dummy_image_array_rgb.txt\", dtype=int)\n",
        "    print(\"Successfully loaded dummy_image_array_rgb.txt\")\n",
        "\n",
        "\n",
        "    loaded_array_gray = np.loadtxt(\"dummy_image_array_gray.txt\", dtype=int)\n",
        "    print(\"Successfully loaded dummy_image_array_gray.txt\")\n",
        "\n",
        "except FileNotFoundError:\n",
        "    print(\"Error: The text file was not found. Make sure the filename is correct and the cell above was executed.\")\n",
        "except Exception as e:\n",
        "    print(f\"An error occurred while loading the file: {e}\")"
      ],
      "metadata": {
        "colab": {
          "base_uri": "https://localhost:8080/"
        },
        "id": "X4t46uPWwaJa",
        "outputId": "26362573-0495-4090-c620-5a4824ca9cfb"
      },
      "execution_count": 1,
      "outputs": [
        {
          "output_type": "stream",
          "name": "stdout",
          "text": [
            "Running img_to_array for a dummy RGB image:\n",
            "Image is RGB.\n",
            "Image array saved to dummy_image_array_rgb.txt\n",
            "\n",
            "Running img_to_array for a dummy grayscale image:\n",
            "Image is grayscale.\n",
            "Image array saved to dummy_image_array_gray.txt\n",
            "\n",
            "Loading the saved text file:\n",
            "Successfully loaded dummy_image_array_rgb.txt\n",
            "Successfully loaded dummy_image_array_gray.txt\n"
          ]
        }
      ]
    }
  ]
}