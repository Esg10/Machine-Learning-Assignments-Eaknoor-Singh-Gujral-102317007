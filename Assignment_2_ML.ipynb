{
  "nbformat": 4,
  "nbformat_minor": 0,
  "metadata": {
    "colab": {
      "provenance": []
    },
    "kernelspec": {
      "name": "python3",
      "display_name": "Python 3"
    },
    "language_info": {
      "name": "python"
    }
  },
  "cells": [
    {
      "cell_type": "markdown",
      "source": [
        "The Marketing department of Adventure Works Cycles wants to increase sales by targeting specific\n",
        "customers for a mailing campaign. The company's database contains a list of past customers and a list of\n",
        "potential new customers. By investigating the attributes of previous bike buyers, the company hopes to\n",
        "discover patterns that they can then apply to potential customers. They hope to use the discovered patterns\n",
        "to predict which potential customers are most likely to purchase a bike from Adventure Works Cycles."
      ],
      "metadata": {
        "id": "Bx8jFHJ19SeZ"
      }
    },
    {
      "cell_type": "markdown",
      "source": [
        "#Part I: Based on Feature Selection, Cleaning, and Preprocessing to Construct an Input from Data Source"
      ],
      "metadata": {
        "id": "zdqkDsKn9UHD"
      }
    },
    {
      "cell_type": "code",
      "source": [
        "import numpy as np\n",
        "import pandas as pd\n",
        "data=pd.read_csv('AWCustomers.csv')\n",
        "print(data.head)"
      ],
      "metadata": {
        "colab": {
          "base_uri": "https://localhost:8080/"
        },
        "id": "btiy60bEMLwR",
        "outputId": "374cdbdc-ce12-41c1-e127-9a4fd01e3c6a"
      },
      "execution_count": 2,
      "outputs": [
        {
          "output_type": "stream",
          "name": "stdout",
          "text": [
            "<bound method NDFrame.head of        CustomerID Title FirstName MiddleName  LastName Suffix  \\\n",
            "0           21173   NaN      Chad          C      Yuan    NaN   \n",
            "1           13249   NaN      Ryan        NaN     Perry    NaN   \n",
            "2           29350   NaN     Julia        NaN  Thompson    NaN   \n",
            "3           13503   NaN  Theodore        NaN     Gomez    NaN   \n",
            "4           22803   NaN  Marshall          J      Shan    NaN   \n",
            "...           ...   ...       ...        ...       ...    ...   \n",
            "18356       25414   NaN     Grace          C    Bailey    NaN   \n",
            "18357       11459   NaN     Tasha        NaN      Deng    NaN   \n",
            "18358       12160   NaN    Jaclyn        NaN     Zhang    NaN   \n",
            "18359       14353   NaN      Erin          I      Reed    NaN   \n",
            "18360       16676   NaN    Amanda        NaN     Perry    NaN   \n",
            "\n",
            "                 AddressLine1 AddressLine2            City  \\\n",
            "0          7090 C. Mount Hood          NaN      Wollongong   \n",
            "1         3651 Willow Lake Rd          NaN         Shawnee   \n",
            "2      1774 Tice Valley Blvd.          NaN     West Covina   \n",
            "3             2103 Baldwin Dr          NaN       Liverpool   \n",
            "4             Am Gallberg 234          NaN           Werne   \n",
            "...                       ...          ...             ...   \n",
            "18356      6627 Camelback Ct.          NaN        Coronado   \n",
            "18357         9627 Kendall Rd          NaN  Port Macquarie   \n",
            "18358       4364 Viera Avenue          NaN       Beaverton   \n",
            "18359  3866 Mt. Everest Court          NaN       Vancouver   \n",
            "18360     7870 Orangewood Dr.          NaN       Grossmont   \n",
            "\n",
            "         StateProvinceName  ...        Education      Occupation Gender  \\\n",
            "0          New South Wales  ...        Bachelors        Clerical      M   \n",
            "1         British Columbia  ...  Partial College        Clerical      M   \n",
            "2               California  ...        Bachelors        Clerical      F   \n",
            "3                  England  ...  Partial College  Skilled Manual      M   \n",
            "4      Nordrhein-Westfalen  ...  Partial College  Skilled Manual      M   \n",
            "...                    ...  ...              ...             ...    ...   \n",
            "18356           California  ...  Graduate Degree  Skilled Manual      F   \n",
            "18357      New South Wales  ...        Bachelors  Skilled Manual      F   \n",
            "18358               Oregon  ...  Partial College  Skilled Manual      F   \n",
            "18359     British Columbia  ...      High School        Clerical      F   \n",
            "18360           California  ...  Graduate Degree    Professional      F   \n",
            "\n",
            "      MaritalStatus HomeOwnerFlag NumberCarsOwned NumberChildrenAtHome  \\\n",
            "0                 M             1               3                    0   \n",
            "1                 M             1               2                    1   \n",
            "2                 S             0               3                    0   \n",
            "3                 M             1               2                    1   \n",
            "4                 S             1               1                    0   \n",
            "...             ...           ...             ...                  ...   \n",
            "18356             M             0               1                    0   \n",
            "18357             S             0               2                    0   \n",
            "18358             S             0               2                    0   \n",
            "18359             S             0               0                    0   \n",
            "18360             M             1               2                    0   \n",
            "\n",
            "      TotalChildren  YearlyIncome  LastUpdated  \n",
            "0                 1         81916   2017-03-06  \n",
            "1                 2         81076   2017-03-06  \n",
            "2                 0         86387   2017-03-06  \n",
            "3                 2         61481   2017-03-06  \n",
            "4                 0         51804   2017-03-06  \n",
            "...             ...           ...          ...  \n",
            "18356             2         52953   2017-03-06  \n",
            "18357             0         60992   2017-03-06  \n",
            "18358             0         51859   2017-03-06  \n",
            "18359             0         87177   2017-03-06  \n",
            "18360             0        136856   2017-03-06  \n",
            "\n",
            "[18361 rows x 24 columns]>\n"
          ]
        }
      ]
    },
    {
      "cell_type": "markdown",
      "source": [
        "* (a) Examine the values of each attribute and Select a set of attributes only that would affect to predict\n",
        "future bike buyers to create your input for data mining algorithms. Remove all the unnecessary\n",
        "attributes. (Select features just by analysis).\n",
        "* (b) Create a new Data Frame with the selected attributes only.\n",
        "* (c) Determine a Data value type (Discrete, or Continuous, then Nominal, Ordinal, Interval, Ratio) of\n",
        "each attribute in your selection to identify preprocessing tasks to create input for your data mining."
      ],
      "metadata": {
        "id": "VSd4_PSqMvux"
      }
    },
    {
      "cell_type": "code",
      "source": [
        "# Attributes like CustomerID, Title, FirstName, MiddleName, LastName, and Suffix are unlikely to directly influence purchasing behavior.\n",
        "# AddressLine1, AddressLine2, City, StateProvinceName, and PostalCode might have some regional influence but are less direct than demographic/financial factors.\n",
        "# LastUpdated is a timestamp and not a predictive feature for future behavior."
      ],
      "metadata": {
        "id": "4DXg7pHEMvEq"
      },
      "execution_count": null,
      "outputs": []
    },
    {
      "cell_type": "code",
      "metadata": {
        "colab": {
          "base_uri": "https://localhost:8080/"
        },
        "id": "f735a18e",
        "outputId": "6f5fe818-03da-4868-a967-25fd8a1549b0"
      },
      "source": [
        "#(a) Select attributes based on analysis that would likely affect bike purchasing\n",
        "selected_attributes = [\n",
        "    'CountryRegionName',\n",
        "    'Education',\n",
        "    'Occupation',\n",
        "    'Gender',\n",
        "    'MaritalStatus',\n",
        "    'HomeOwnerFlag',\n",
        "    'NumberCarsOwned',\n",
        "    'NumberChildrenAtHome',\n",
        "    'TotalChildren',\n",
        "    'YearlyIncome',\n",
        "\n",
        "]\n",
        "\n",
        "# (b) Create a new Data Frame with the selected attributes\n",
        "try:\n",
        "    data_selected = data[selected_attributes].copy()\n",
        "except KeyError as e:\n",
        "    print(f\"Error: One or more selected attributes not found in the original DataFrame. Please check the attribute names. Missing attribute: {e}\")\n",
        "    data_selected = pd.DataFrame() # Create an empty DataFrame if there's an error\n",
        "\n",
        "\n",
        "# (c) Determine data value types of each attribute in the selection\n",
        "if not data_selected.empty:\n",
        "    data_types = data_selected.dtypes\n",
        "    print(\"\\nData Types of Selected Attributes:\")\n",
        "    for col, dtype in data_types.items():\n",
        "        print(f\"- {col}: {dtype}\")\n",
        "print(data_selected.head)\n"
      ],
      "execution_count": 7,
      "outputs": [
        {
          "output_type": "stream",
          "name": "stdout",
          "text": [
            "\n",
            "Data Types of Selected Attributes:\n",
            "- CountryRegionName: object\n",
            "- Education: object\n",
            "- Occupation: object\n",
            "- Gender: object\n",
            "- MaritalStatus: object\n",
            "- HomeOwnerFlag: int64\n",
            "- NumberCarsOwned: int64\n",
            "- NumberChildrenAtHome: int64\n",
            "- TotalChildren: int64\n",
            "- YearlyIncome: int64\n",
            "<bound method NDFrame.head of       CountryRegionName        Education      Occupation Gender MaritalStatus  \\\n",
            "0             Australia        Bachelors        Clerical      M             M   \n",
            "1                Canada  Partial College        Clerical      M             M   \n",
            "2         United States        Bachelors        Clerical      F             S   \n",
            "3        United Kingdom  Partial College  Skilled Manual      M             M   \n",
            "4               Germany  Partial College  Skilled Manual      M             S   \n",
            "...                 ...              ...             ...    ...           ...   \n",
            "18356     United States  Graduate Degree  Skilled Manual      F             M   \n",
            "18357         Australia        Bachelors  Skilled Manual      F             S   \n",
            "18358     United States  Partial College  Skilled Manual      F             S   \n",
            "18359            Canada      High School        Clerical      F             S   \n",
            "18360     United States  Graduate Degree    Professional      F             M   \n",
            "\n",
            "       HomeOwnerFlag  NumberCarsOwned  NumberChildrenAtHome  TotalChildren  \\\n",
            "0                  1                3                     0              1   \n",
            "1                  1                2                     1              2   \n",
            "2                  0                3                     0              0   \n",
            "3                  1                2                     1              2   \n",
            "4                  1                1                     0              0   \n",
            "...              ...              ...                   ...            ...   \n",
            "18356              0                1                     0              2   \n",
            "18357              0                2                     0              0   \n",
            "18358              0                2                     0              0   \n",
            "18359              0                0                     0              0   \n",
            "18360              1                2                     0              0   \n",
            "\n",
            "       YearlyIncome  \n",
            "0             81916  \n",
            "1             81076  \n",
            "2             86387  \n",
            "3             61481  \n",
            "4             51804  \n",
            "...             ...  \n",
            "18356         52953  \n",
            "18357         60992  \n",
            "18358         51859  \n",
            "18359         87177  \n",
            "18360        136856  \n",
            "\n",
            "[18361 rows x 10 columns]>\n"
          ]
        }
      ]
    },
    {
      "cell_type": "markdown",
      "source": [
        "# **Part II: Data Preprocessing and Transformation**\n",
        "#### Depending on the data type of each attribute, transform each object from your preprocessed data.\n",
        "#### Use all the data rows (~= 18000 rows) with the selected features as input to apply all the tasks below, do not perform each task on the smaller data set that you got from your random sampling result.\n",
        "* (a) Handling Null values\n",
        "* (b) Normalization\n",
        "* (c) Discretization (Binning) on Continuous attributes or Categorical Attributes with too many different values\n",
        "* (d) Standardization/Normalization\n",
        "* (e) Binarization (One Hot Encoding)\n"
      ],
      "metadata": {
        "id": "QXl6GCmKOjWq"
      }
    },
    {
      "cell_type": "code",
      "source": [
        "from sklearn.preprocessing import MinMaxScaler, StandardScaler, KBinsDiscretizer, OneHotEncoder\n",
        "from sklearn.impute import SimpleImputer\n",
        "from sklearn.compose import ColumnTransformer\n",
        "from sklearn.pipeline import Pipeline\n",
        "import numpy as np\n",
        "\n",
        "# Use all selected features as input\n",
        "features = data_selected.copy()\n",
        "\n",
        "# (a) Handling Null values - Using SimpleImputer to fill missing values\n",
        "# We'll check for nulls first to decide on a strategy\n",
        "print(\"Null values \")\n",
        "print(features.isnull().sum())\n",
        "\n",
        "# # For numerical columns, we can use the mean or median.\n",
        "# # For categorical columns, we can use the most frequent value.\n",
        "numerical_features = features.select_dtypes(include=np.number).columns\n",
        "categorical_features = features.select_dtypes(include='object').columns\n",
        "\n",
        "\n",
        "\n",
        "# (b) & (d) Normalization/Standardization\n",
        "# Applying Standardization to numerical features\n",
        "scaler = StandardScaler()\n",
        "features[numerical_features] = scaler.fit_transform(features[numerical_features])\n",
        "\n",
        "print(\"\\nFeatures after Standardization:\")\n",
        "print(features[numerical_features].head())\n",
        "\n",
        "\n",
        "# (c) Discretization (Binning)\n",
        "# Applying discretization to a continuous attribute\n",
        "\n",
        "discretizer = KBinsDiscretizer(n_bins=5, encode='ordinal', strategy='uniform') # Example with 5 bins\n",
        "features['YearlyIncome_Binned'] = discretizer.fit_transform(features[['YearlyIncome']])\n",
        "print(\"\\nFeatures after Discretization:\")\n",
        "print(features[['YearlyIncome', 'YearlyIncome_Binned']].head())\n",
        "\n",
        "# (e) Binarization (One Hot Encoding)\n",
        "# Applying One Hot Encoding to categorical features\n",
        "encoder = OneHotEncoder(handle_unknown='ignore', sparse_output=False) # Use sparse_output=False for a dense array\n",
        "\n",
        "# Fit and transform the categorical features\n",
        "encoded_categorical_features = encoder.fit_transform(features[categorical_features])\n",
        "\n",
        "# Create a DataFrame from the encoded features\n",
        "encoded_categorical_df = pd.DataFrame(encoded_categorical_features, columns=encoder.get_feature_names_out(categorical_features))\n",
        "\n",
        "# Drop the original categorical columns and concatenate the encoded ones\n",
        "features = features.drop(categorical_features, axis=1)\n",
        "features = pd.concat([features, encoded_categorical_df], axis=1)\n",
        "\n",
        "print(\"\\nFeatures after One Hot Encoding:\")\n",
        "print(features.head())\n",
        "\n",
        "print(\"\\nPreprocessing and Transformation Complete.\")\n",
        "print(\"Shape of the preprocessed features DataFrame:\", features.shape)"
      ],
      "metadata": {
        "colab": {
          "base_uri": "https://localhost:8080/"
        },
        "id": "Fod_3fsIPKxg",
        "outputId": "cd75d3b1-1626-4857-93df-f9785fa856f2"
      },
      "execution_count": 14,
      "outputs": [
        {
          "output_type": "stream",
          "name": "stdout",
          "text": [
            "Null values \n",
            "CountryRegionName       0\n",
            "Education               0\n",
            "Occupation              0\n",
            "Gender                  0\n",
            "MaritalStatus           0\n",
            "HomeOwnerFlag           0\n",
            "NumberCarsOwned         0\n",
            "NumberChildrenAtHome    0\n",
            "TotalChildren           0\n",
            "YearlyIncome            0\n",
            "dtype: int64\n",
            "\n",
            "Features after Standardization:\n",
            "   HomeOwnerFlag  NumberCarsOwned  NumberChildrenAtHome  TotalChildren  \\\n",
            "0       0.798603         1.892524             -0.594371       0.161342   \n",
            "1       0.798603         0.798389              1.163279       1.239753   \n",
            "2      -1.252187         1.892524             -0.594371      -0.917069   \n",
            "3       0.798603         0.798389              1.163279       1.239753   \n",
            "4       0.798603        -0.295746             -0.594371      -0.917069   \n",
            "\n",
            "   YearlyIncome  \n",
            "0      0.298555  \n",
            "1      0.271180  \n",
            "2      0.444261  \n",
            "3     -0.367401  \n",
            "4     -0.682765  \n",
            "\n",
            "Features after Discretization:\n",
            "   YearlyIncome  YearlyIncome_Binned\n",
            "0      0.298555                  2.0\n",
            "1      0.271180                  2.0\n",
            "2      0.444261                  2.0\n",
            "3     -0.367401                  1.0\n",
            "4     -0.682765                  1.0\n",
            "\n",
            "Features after One Hot Encoding:\n",
            "   HomeOwnerFlag  NumberCarsOwned  NumberChildrenAtHome  TotalChildren  \\\n",
            "0       0.798603         1.892524             -0.594371       0.161342   \n",
            "1       0.798603         0.798389              1.163279       1.239753   \n",
            "2      -1.252187         1.892524             -0.594371      -0.917069   \n",
            "3       0.798603         0.798389              1.163279       1.239753   \n",
            "4       0.798603        -0.295746             -0.594371      -0.917069   \n",
            "\n",
            "   YearlyIncome  YearlyIncome_Binned  CountryRegionName_Australia  \\\n",
            "0      0.298555                  2.0                          1.0   \n",
            "1      0.271180                  2.0                          0.0   \n",
            "2      0.444261                  2.0                          0.0   \n",
            "3     -0.367401                  1.0                          0.0   \n",
            "4     -0.682765                  1.0                          0.0   \n",
            "\n",
            "   CountryRegionName_Canada  CountryRegionName_France  \\\n",
            "0                       0.0                       0.0   \n",
            "1                       1.0                       0.0   \n",
            "2                       0.0                       0.0   \n",
            "3                       0.0                       0.0   \n",
            "4                       0.0                       0.0   \n",
            "\n",
            "   CountryRegionName_Germany  ...  Education_Partial High School  \\\n",
            "0                        0.0  ...                            0.0   \n",
            "1                        0.0  ...                            0.0   \n",
            "2                        0.0  ...                            0.0   \n",
            "3                        0.0  ...                            0.0   \n",
            "4                        1.0  ...                            0.0   \n",
            "\n",
            "   Occupation_Clerical  Occupation_Management  Occupation_Manual  \\\n",
            "0                  1.0                    0.0                0.0   \n",
            "1                  1.0                    0.0                0.0   \n",
            "2                  1.0                    0.0                0.0   \n",
            "3                  0.0                    0.0                0.0   \n",
            "4                  0.0                    0.0                0.0   \n",
            "\n",
            "   Occupation_Professional  Occupation_Skilled Manual  Gender_F  Gender_M  \\\n",
            "0                      0.0                        0.0       0.0       1.0   \n",
            "1                      0.0                        0.0       0.0       1.0   \n",
            "2                      0.0                        0.0       1.0       0.0   \n",
            "3                      0.0                        1.0       0.0       1.0   \n",
            "4                      0.0                        1.0       0.0       1.0   \n",
            "\n",
            "   MaritalStatus_M  MaritalStatus_S  \n",
            "0              1.0              0.0  \n",
            "1              1.0              0.0  \n",
            "2              0.0              1.0  \n",
            "3              1.0              0.0  \n",
            "4              0.0              1.0  \n",
            "\n",
            "[5 rows x 26 columns]\n",
            "\n",
            "Preprocessing and Transformation Complete.\n",
            "Shape of the preprocessed features DataFrame: (18361, 26)\n"
          ]
        }
      ]
    },
    {
      "cell_type": "markdown",
      "source": [
        "# Part III: Calculating Proximity /Correlation Analysis of two features\n",
        "#### Make sure each attribute is transformed in a same scale for numeric attributes and Binarization for each nominal attribute, and each discretized numeric attribute to standardization. Make sure to apply a correct similarity measure for nominal (one hot encoding)/binary attributes and numeric attributes respectively.\n",
        "* (a) Calculate Similarity in Simple Matching, Jaccard Similarity, and Cosine Similarity between two following objects of your transformed input data.\n",
        "* (b) Calculate Correlation between two features Commute Distance and Yearly Income"
      ],
      "metadata": {
        "id": "Vl0SmJqbSj40"
      }
    },
    {
      "cell_type": "code",
      "source": [
        "from sklearn.metrics.pairwise import cosine_similarity\n",
        "from scipy.spatial.distance import pdist, squareform\n",
        "\n",
        "object1 = features.iloc[0].values.reshape(1, -1)\n",
        "object2 = features.iloc[1].values.reshape(1, -1)\n",
        "\n",
        "# (a) Calculate Similarity measures\n",
        "\n",
        "one_hot_encoded_cols = [col for col in features.columns if any(cat_col in col for cat_col in categorical_features)]\n",
        "\n",
        "object1_binary = features.iloc[0][one_hot_encoded_cols].values.reshape(1, -1)\n",
        "object2_binary = features.iloc[1][one_hot_encoded_cols].values.reshape(1, -1)\n",
        "\n",
        "smc_similarity = np.sum(object1_binary == object2_binary) / object1_binary.shape[1]\n",
        "print(f\"Simple Matching Similarity between object 1 and object 2 (on binary features): {smc_similarity}\")\n",
        "\n",
        "\n",
        "\n",
        "from scipy.spatial.distance import jaccard\n",
        "\n",
        "jaccard_distance = jaccard(object1_binary[0], object2_binary[0])\n",
        "jaccard_similarity = 1 - jaccard_distance\n",
        "print(f\"Jaccard Similarity between object 1 and object 2 (on binary features): {jaccard_similarity}\")\n",
        "\n",
        "cosine_sim = cosine_similarity(object1, object2)[0][0]\n",
        "print(f\"Cosine Similarity between object 1 and object 2 (on all features): {cosine_sim}\")\n",
        "\n",
        "\n",
        "# (b) Calculate Correlation between two features Commute Distance and Yearly Income\n",
        "\n",
        "if 'CommuteDistance' in data.columns and 'YearlyIncome' in data.columns:\n",
        "     correlation = data['CommuteDistance'].corr(data['YearlyIncome'])\n",
        "     print(f\"\\nCorrelation between Commute Distance and Yearly Income: {correlation}\")\n",
        "else:\n",
        "    print(\"\\nCould not calculate correlation between Commute Distance and Yearly Income as Commute Distance is not in the selected features.\")"
      ],
      "metadata": {
        "colab": {
          "base_uri": "https://localhost:8080/"
        },
        "id": "kOQQSNlQSkKo",
        "outputId": "9a786d31-9132-4490-b471-f017f166d0ac"
      },
      "execution_count": 19,
      "outputs": [
        {
          "output_type": "stream",
          "name": "stdout",
          "text": [
            "Simple Matching Similarity between object 1 and object 2 (on binary features): 0.8\n",
            "Jaccard Similarity between object 1 and object 2 (on binary features): 0.4285714285714286\n",
            "Cosine Similarity between object 1 and object 2 (on all features): 0.6491317349422756\n",
            "\n",
            "Could not calculate correlation between Commute Distance and Yearly Income as Commute Distance is not in the selected features.\n"
          ]
        }
      ]
    }
  ]
}